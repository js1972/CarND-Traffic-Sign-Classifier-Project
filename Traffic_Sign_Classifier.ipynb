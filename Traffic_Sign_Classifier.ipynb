{
 "cells": [
  {
   "cell_type": "markdown",
   "metadata": {},
   "source": [
    "# Self-Driving Car Engineer Nanodegree\n",
    "\n",
    "## Deep Learning\n",
    "\n",
    "## Project: Build a Traffic Sign Recognition Classifier\n",
    "\n",
    "In this notebook, a template is provided for you to implement your functionality in stages which is required to successfully complete this project. If additional code is required that cannot be included in the notebook, be sure that the Python code is successfully imported and included in your submission, if necessary. Sections that begin with **'Implementation'** in the header indicate where you should begin your implementation for your project. Note that some sections of implementation are optional, and will be marked with **'Optional'** in the header.\n",
    "\n",
    "In addition to implementing code, there will be questions that you must answer which relate to the project and your implementation. Each section where you will answer a question is preceded by a **'Question'** header. Carefully read each question and provide thorough answers in the following text boxes that begin with **'Answer:'**. Your project submission will be evaluated based on your answers to each of the questions and the implementation you provide.\n",
    "\n",
    ">**Note:** Code and Markdown cells can be executed using the **Shift + Enter** keyboard shortcut. In addition, Markdown cells can be edited by typically double-clicking the cell to enter edit mode."
   ]
  },
  {
   "cell_type": "markdown",
   "metadata": {},
   "source": [
    "---\n",
    "## Step 0: Load The Data"
   ]
  },
  {
   "cell_type": "code",
   "execution_count": 1,
   "metadata": {
    "collapsed": false
   },
   "outputs": [],
   "source": [
    "import pickle\n",
    "import numpy as np\n",
    "import matplotlib.pyplot as plt\n",
    "import tensorflow as tf\n",
    "import tensorflow.contrib.slim as slim  # TensorFlow-Slim\n",
    "from sklearn.model_selection import train_test_split\n",
    "\n",
    "from io import BytesIO\n",
    "from zipfile import ZipFile\n",
    "import requests\n",
    "import os\n",
    "import time\n",
    "import math\n",
    "\n",
    "# Visualizations will be shown in the notebook.\n",
    "%matplotlib inline"
   ]
  },
  {
   "cell_type": "code",
   "execution_count": 2,
   "metadata": {
    "collapsed": false
   },
   "outputs": [],
   "source": [
    "# Constants\n",
    "NUMBER_OF_CLASSES = 43\n",
    "IMAGE_SIZE = 32\n",
    "NUMBER_OF_CHANNELS = 3\n",
    "\n",
    "EPOCHS = 2 #40\n",
    "BATCH_SIZE = 128\n",
    "BATCH_SIZE_INF = 2048\n",
    "VALIDATION_SIZE = 0.2\n",
    "\n",
    "LEARNING_RATE = 5e-3\n",
    "DROPOUT_KEEP = 0.5\n",
    "\n",
    "MODEL_SAVE_PATH = \"model.ckpt\"\n",
    "\n",
    "RESTORE = False  # restore previous model, don't train?\n",
    "RESUME = False  # resume training from previously trained model?"
   ]
  },
  {
   "cell_type": "code",
   "execution_count": 3,
   "metadata": {
    "collapsed": true
   },
   "outputs": [],
   "source": [
    "def download_if_not_existing(file_url):\n",
    "    if not os.path.isfile(\"data/test.p\") or not os.path.isfile(\"data/train.p\"):\n",
    "        url = requests.get(file_url)\n",
    "        zipfile = ZipFile(BytesIO(url.content))\n",
    "        zipfile.extractall(path=\"data\")\n",
    "        print(\"data files downloaded and extracted\")\n",
    "    else:\n",
    "        print(\"data file exist\")"
   ]
  },
  {
   "cell_type": "code",
   "execution_count": 4,
   "metadata": {
    "collapsed": false
   },
   "outputs": [
    {
     "name": "stdout",
     "output_type": "stream",
     "text": [
      "data file exist\n",
      "CPU times: user 433 µs, sys: 569 µs, total: 1 ms\n",
      "Wall time: 544 µs\n",
      "X_train shape: (39209, 32, 32, 3)\n",
      "X_test shape: (12630, 32, 32, 3)\n"
     ]
    }
   ],
   "source": [
    "# Load pickled data\n",
    "\n",
    "# TODO: Fill this in based on where you saved the training and testing data\n",
    "%time download_if_not_existing(\"https://d17h27t6h515a5.cloudfront.net/topher/2016/November/581faac4_traffic-signs-data/traffic-signs-data.zip\")\n",
    "\n",
    "training_file = \"data/train.p\"\n",
    "testing_file = \"data/test.p\"\n",
    "\n",
    "with open(training_file, mode='rb') as f:\n",
    "    train = pickle.load(f)\n",
    "with open(testing_file, mode='rb') as f:\n",
    "    test = pickle.load(f)\n",
    "    \n",
    "X_train, y_train = train['features'], train['labels']\n",
    "X_test, y_test = test['features'], test['labels']\n",
    "\n",
    "print(\"X_train shape:\", X_train.shape)\n",
    "print(\"X_test shape:\", X_test.shape)"
   ]
  },
  {
   "cell_type": "markdown",
   "metadata": {},
   "source": [
    "---\n",
    "\n",
    "## Step 1: Dataset Summary & Exploration\n",
    "\n",
    "The pickled data is a dictionary with 4 key/value pairs:\n",
    "\n",
    "- `'features'` is a 4D array containing raw pixel data of the traffic sign images, (num examples, width, height, channels).\n",
    "- `'labels'` is a 2D array containing the label/class id of the traffic sign. The file `signnames.csv` contains id -> name mappings for each id.\n",
    "- `'sizes'` is a list containing tuples, (width, height) representing the the original width and height the image.\n",
    "- `'coords'` is a list containing tuples, (x1, y1, x2, y2) representing coordinates of a bounding box around the sign in the image. **THESE COORDINATES ASSUME THE ORIGINAL IMAGE. THE PICKLED DATA CONTAINS RESIZED VERSIONS (32 by 32) OF THESE IMAGES**\n",
    "\n",
    "Complete the basic data summary below."
   ]
  },
  {
   "cell_type": "code",
   "execution_count": 5,
   "metadata": {
    "collapsed": false
   },
   "outputs": [
    {
     "name": "stdout",
     "output_type": "stream",
     "text": [
      "Number of training examples = 39209\n",
      "Number of testing examples = 12630\n",
      "Image data shape = (32, 32)\n",
      "Number of classes = 43\n"
     ]
    }
   ],
   "source": [
    "### Replace each question mark with the appropriate value.\n",
    "\n",
    "# TODO: Number of training examples\n",
    "n_train = X_train.shape[0]\n",
    "\n",
    "# TODO: Number of testing examples.\n",
    "n_test = X_test.shape[0]\n",
    "\n",
    "# TODO: What's the shape of an traffic sign image?\n",
    "image_shape = X_train.shape[1:3]\n",
    "\n",
    "# TODO: How many unique classes/labels there are in the dataset.\n",
    "n_classes = np.unique(y_train).shape[0]\n",
    "\n",
    "print(\"Number of training examples =\", n_train)\n",
    "print(\"Number of testing examples =\", n_test)\n",
    "print(\"Image data shape =\", image_shape)\n",
    "print(\"Number of classes =\", n_classes)"
   ]
  },
  {
   "cell_type": "markdown",
   "metadata": {},
   "source": [
    "Visualize the German Traffic Signs Dataset using the pickled file(s). This is open ended, suggestions include: plotting traffic sign images, plotting the count of each sign, etc.\n",
    "\n",
    "The [Matplotlib](http://matplotlib.org/) [examples](http://matplotlib.org/examples/index.html) and [gallery](http://matplotlib.org/gallery.html) pages are a great resource for doing visualizations in Python.\n",
    "\n",
    "**NOTE:** It's recommended you start with something simple first. If you wish to do more, come back to it after you've completed the rest of the sections."
   ]
  },
  {
   "cell_type": "code",
   "execution_count": 6,
   "metadata": {
    "collapsed": false
   },
   "outputs": [
    {
     "data": {
      "image/png": "[encoded data removed]",
      "text/plain": [
       "<matplotlib.figure.Figure at 0x11a0b7f60>"
      ]
     },
     "metadata": {},
     "output_type": "display_data"
    }
   ],
   "source": [
    "### Data exploration visualization goes here.\n",
    "### Feel free to use as many code cells as needed.\n",
    "\n",
    "# Read the sign names into a numpy array (note first row is col headings)\n",
    "# By setting dtype to None, genfromtxt will try to automatically work\n",
    "# out the data types - however for strings it gives byte sequences so \n",
    "# we convert them to strings when needed.\n",
    "signnames = np.genfromtxt (\"signnames.csv\", delimiter=\",\", dtype=None)\n",
    "\n",
    "# Pick a random sample of the training images\n",
    "num_images_to_show = 6\n",
    "indices = np.random.randint(0, n_train, num_images_to_show)\n",
    "images = X_train[indices]\n",
    "labels = y_train[indices]\n",
    "\n",
    "plt.rcParams[\"figure.figsize\"] = [15, 5]\n",
    "plt.axis(\"off\")  # clear x- and y-axes\n",
    "\n",
    "for i, image in enumerate(images):\n",
    "    plt.subplot(1, num_images_to_show, i+1)\n",
    "    plt.axis(\"off\")  # clear x- and y-axes\n",
    "    plt.imshow(image)\n",
    "    label_idx = labels[i]\n",
    "    plt.title(signnames[label_idx+1][1].decode(\"utf-8\"))\n",
    "    \n",
    "plt.tight_layout()"
   ]
  },
  {
   "cell_type": "code",
   "execution_count": 7,
   "metadata": {
    "collapsed": false
   },
   "outputs": [
    {
     "data": {
      "image/png": "[encoded data removed]",
      "text/plain": [
       "<matplotlib.figure.Figure at 0x1053e6390>"
      ]
     },
     "metadata": {},
     "output_type": "display_data"
    }
   ],
   "source": [
    "# Plot a bar chart of the label counts\n",
    "# np.unique -> Returns the sorted unique elements of an array\n",
    "labels, counts = np.unique(y_train, return_counts=True)\n",
    "\n",
    "plt.figure()\n",
    "axes = plt.gca()\n",
    "axes.set_xlim([-1,43])\n",
    "plt.bar(labels, counts, tick_label=labels, width=0.8, align=\"center\")\n",
    "plt.title(\"Traffic sign (label) frequency distribution in the Train set\")\n",
    "plt.show()"
   ]
  },
  {
   "cell_type": "markdown",
   "metadata": {},
   "source": [
    "----\n",
    "\n",
    "## Step 2: Design and Test a Model Architecture\n",
    "\n",
    "Design and implement a deep learning model that learns to recognize traffic signs. Train and test your model on the [German Traffic Sign Dataset](http://benchmark.ini.rub.de/?section=gtsrb&subsection=dataset).\n",
    "\n",
    "There are various aspects to consider when thinking about this problem:\n",
    "\n",
    "- Neural network architecture\n",
    "- Play around preprocessing techniques (normalization, rgb to grayscale, etc)\n",
    "- Number of examples per label (some have more than others).\n",
    "- Generate fake data.\n",
    "\n",
    "Here is an example of a [published baseline model on this problem](http://yann.lecun.com/exdb/publis/pdf/sermanet-ijcnn-11.pdf). It's not required to be familiar with the approach used in the paper but, it's good practice to try to read papers like these.\n",
    "\n",
    "**NOTE:** The LeNet-5 implementation shown in the [classroom](https://classroom.udacity.com/nanodegrees/nd013/parts/fbf77062-5703-404e-b60c-95b78b2f3f9e/modules/6df7ae49-c61c-4bb2-a23e-6527e69209ec/lessons/601ae704-1035-4287-8b11-e2c2716217ad/concepts/d4aca031-508f-4e0b-b493-e7b706120f81) at the end of the CNN lesson is a solid starting point. You'll have to change the number of classes and possibly the preprocessing, but aside from that it's plug and play!"
   ]
  },
  {
   "cell_type": "markdown",
   "metadata": {},
   "source": [
    "### Implementation\n",
    "\n",
    "Use the code cell (or multiple code cells, if necessary) to implement the first step of your project. Once you have completed your implementation and are satisfied with the results, be sure to thoroughly answer the questions that follow."
   ]
  },
  {
   "cell_type": "code",
   "execution_count": 8,
   "metadata": {
    "collapsed": true
   },
   "outputs": [],
   "source": [
    "def preprocess(X, y):\n",
    "    \"\"\"\n",
    "    Preprocess image data, and convert labels into one-hot\n",
    "\n",
    "    Arguments:\n",
    "        * X: Image data\n",
    "        * y: Labels\n",
    "\n",
    "    Returns:\n",
    "        * Preprocessed X, one-hot version of y\n",
    "    \"\"\"\n",
    "    # Convert from RGB to grayscale if applicable\n",
    "    #if GRAYSCALE:\n",
    "    #    X = rgb_to_gray(X)\n",
    "\n",
    "    # Make all image array values fall within the range -1 to 1\n",
    "    # Note all values in original images are between 0 and 255, as uint8\n",
    "    X = X.astype(\"float32\")\n",
    "    X = (X - 128.) / 128.\n",
    "\n",
    "    # Convert the labels from numerical labels to one-hot encoded labels\n",
    "    y_onehot = np.zeros((y.shape[0], NUMBER_OF_CLASSES))\n",
    "    for i, onehot_label in enumerate(y_onehot):\n",
    "        onehot_label[y[i]] = 1.\n",
    "    y = y_onehot\n",
    "\n",
    "    return X, y"
   ]
  },
  {
   "cell_type": "code",
   "execution_count": 9,
   "metadata": {
    "collapsed": false
   },
   "outputs": [
    {
     "name": "stdout",
     "output_type": "stream",
     "text": [
      "Train, Validation & Test data ready\n"
     ]
    }
   ],
   "source": [
    "X_train, y_train = preprocess(X_train, y_train)\n",
    "X_test, y_test = preprocess(X_test, y_test)\n",
    "\n",
    "X_train, X_valid, y_train, y_valid = train_test_split(X_train, y_train, test_size=VALIDATION_SIZE)\n",
    "\n",
    "print(\"Train, Validation & Test data ready\")"
   ]
  },
  {
   "cell_type": "code",
   "execution_count": 10,
   "metadata": {
    "collapsed": true
   },
   "outputs": [],
   "source": [
    "def iterate_minibatches(inputs, targets, batchsize, shuffle=False):\n",
    "    assert inputs.shape[0] == targets.shape[0]\n",
    "    \n",
    "    if shuffle:\n",
    "        indices = np.arange(inputs.shape[0])\n",
    "        np.random.shuffle(indices)\n",
    "        \n",
    "    for start_idx in range(0, inputs.shape[0] - batchsize + 1, batchsize):\n",
    "        if shuffle:\n",
    "            excerpt = indices[start_idx:start_idx + batchsize]\n",
    "        else:\n",
    "            excerpt = slice(start_idx, start_idx + batchsize)\n",
    "            \n",
    "        yield inputs[excerpt], targets[excerpt]"
   ]
  },
  {
   "cell_type": "code",
   "execution_count": 11,
   "metadata": {
    "collapsed": true
   },
   "outputs": [],
   "source": [
    "def calculate_accuracy(inputs, targets, batch_size, accuracy, x, y, keep_prob, sess):\n",
    "    \"\"\"\n",
    "    Helper function to calculate accuracy on a particular dataset\n",
    "    \"\"\"\n",
    "    data_size = inputs.shape[0]\n",
    "    num_batches = math.ceil(data_size / batch_size)\n",
    "    last_batch_size = data_size % batch_size\n",
    "\n",
    "    accs = []  # accuracy for each batch\n",
    "\n",
    "    #for _ in range(num_batches):\n",
    "    #    images, labels = next(data_gen)\n",
    "    for batch in iterate_minibatches(inputs, targets, batch_size, shuffle=False):\n",
    "        images, labels = batch\n",
    "            \n",
    "        # Perform forward pass and calculate accuracy\n",
    "        # Note we set keep_prob to 1.0, since we are performing inference\n",
    "        acc = sess.run(accuracy, feed_dict={x: images, y: labels, keep_prob: 1.})\n",
    "        accs.append(acc)\n",
    "        \n",
    "    # Calculate average accuracy of all full batches (the last batch is the only partial batch)\n",
    "    acc_full = np.mean(accs[:-1])\n",
    "    \n",
    "    # Calculate weighted average of accuracy accross batches\n",
    "    acc = (acc_full * (data_size - last_batch_size) + accs[-1] * last_batch_size) / data_size\n",
    "    \n",
    "    return acc"
   ]
  },
  {
   "cell_type": "code",
   "execution_count": 18,
   "metadata": {
    "collapsed": true
   },
   "outputs": [],
   "source": [
    "def inference():\n",
    "    \"\"\"\n",
    "    Define neural network architecture\n",
    "    Return relevant tensor references\n",
    "    \"\"\"\n",
    "    with tf.variable_scope('neural_network'):\n",
    "        # Tensors representing input images and labels\n",
    "        with tf.name_scope('input'):\n",
    "            x = tf.placeholder('float', [None, IMAGE_SIZE, IMAGE_SIZE, NUMBER_OF_CHANNELS], name=\"images-input\")\n",
    "            y = tf.placeholder('float', [None, NUMBER_OF_CLASSES], name=\"labels-input\")\n",
    "            # Placeholder for dropout keep probability\n",
    "            keep_prob = tf.placeholder(tf.float32, name=\"Dropout\")\n",
    "\n",
    "        # Neural network architecture: Convolutional Neural Network (CNN)\n",
    "        # Using TensorFlow-Slim to build the network:\n",
    "        # https://github.com/tensorflow/tensorflow/tree/master/tensorflow/contrib/slim\n",
    "\n",
    "        # Use batch normalization for all convolution layers\n",
    "        with slim.arg_scope([slim.conv2d], normalizer_fn=slim.batch_norm):\n",
    "            # Given x shape is (32, 32, 3)\n",
    "            # Conv and pool layers\n",
    "            net = slim.conv2d(x, 16, [3, 3], scope='conv0')  # output shape: (32, 32, 16)\n",
    "            net = slim.max_pool2d(net, [3, 3], 1, padding='SAME', scope='pool0')  # output shape: (32, 32, 16)\n",
    "            net = slim.conv2d(net, 64, [5, 5], 3, padding='VALID', scope='conv1')  # output shape: (10, 10, 64)\n",
    "            net = slim.max_pool2d(net, [3, 3], 1, scope='pool1')  # output shape: (8, 8, 64)\n",
    "            net = slim.conv2d(net, 128, [3, 3], scope='conv2')  # output shape: (8, 8, 128)\n",
    "            net = slim.conv2d(net, 64, [3, 3], scope='conv3')  # output shape: (8, 8, 64)\n",
    "            net = slim.max_pool2d(net, [3, 3], 1, scope='pool3')  # output shape: (6, 6, 64)\n",
    "\n",
    "            # Final fully-connected layers\n",
    "            net = tf.contrib.layers.flatten(net)\n",
    "            net = slim.fully_connected(net, 1024, scope='fc4')\n",
    "            net = tf.nn.dropout(net, keep_prob)\n",
    "            net = slim.fully_connected(net, 1024, scope='fc5')\n",
    "            net = tf.nn.dropout(net, keep_prob)\n",
    "            net = slim.fully_connected(net, NUMBER_OF_CLASSES, scope='fc6')\n",
    "\n",
    "        # Final output (logits)\n",
    "        logits = net\n",
    "\n",
    "        # Loss (data loss and regularization loss) and optimizer\n",
    "        loss = tf.reduce_mean(tf.nn.softmax_cross_entropy_with_logits(logits, y))\n",
    "        optimizer = tf.train.GradientDescentOptimizer(learning_rate=LEARNING_RATE).minimize(loss)\n",
    "        \n",
    "        # Prediction (used during inference)\n",
    "        predictions = tf.argmax(logits, 1)\n",
    "\n",
    "        # Accuracy metric calculation\n",
    "        correct_prediction = tf.equal(predictions, tf.argmax(y, 1))\n",
    "        accuracy = tf.reduce_mean(tf.cast(correct_prediction, tf.float32))\n",
    "\n",
    "    # Return relevant tensor references\n",
    "    return x, y, keep_prob, logits, optimizer, predictions, accuracy, global_step"
   ]
  },
  {
   "cell_type": "code",
   "execution_count": 19,
   "metadata": {
    "collapsed": false
   },
   "outputs": [
    {
     "name": "stdout",
     "output_type": "stream",
     "text": [
      "Current settings:\n",
      "NUMBER_OF_CLASSES: 43\n",
      "IMAGE_SIZE: 32\n",
      "NUMBER_OF_CHANNELS: 3\n",
      "EPOCHS: 2\n",
      "BATCH_SIZE: 128\n",
      "BATCH_SIZE_INF: 2048\n",
      "VALIDATION_SIZE: 0.2\n",
      "LEARNING_RATE: 0.005\n",
      "DROPOUT_KEEP: 0.5\n",
      "MODEL_SAVE_PATH: model.ckpt\n",
      "RESTORE: False\n",
      "RESUME: False\n"
     ]
    }
   ],
   "source": [
    "print(\"Current settings:\")\n",
    "print(\"NUMBER_OF_CLASSES:\", NUMBER_OF_CLASSES)\n",
    "print(\"IMAGE_SIZE:\", IMAGE_SIZE)\n",
    "print(\"NUMBER_OF_CHANNELS:\", NUMBER_OF_CHANNELS)\n",
    "print(\"EPOCHS:\", EPOCHS)\n",
    "print(\"BATCH_SIZE:\", BATCH_SIZE)\n",
    "print(\"BATCH_SIZE_INF:\", BATCH_SIZE_INF)\n",
    "print(\"VALIDATION_SIZE:\", VALIDATION_SIZE)\n",
    "print(\"LEARNING_RATE:\", LEARNING_RATE)\n",
    "print(\"DROPOUT_KEEP:\", DROPOUT_KEEP)\n",
    "print(\"MODEL_SAVE_PATH:\", MODEL_SAVE_PATH)\n",
    "print(\"RESTORE:\", RESTORE)\n",
    "print(\"RESUME:\", RESUME)"
   ]
  },
  {
   "cell_type": "code",
   "execution_count": 17,
   "metadata": {
    "collapsed": false
   },
   "outputs": [],
   "source": [
    "def save_model(saver, accuracy_history, sess):\n",
    "    \"\"\"\n",
    "    Save model and accuracy data to disk (TF checkpoint)\n",
    "    \"\"\"\n",
    "    save_path = saver.save(sess, MODEL_SAVE_PATH)\n",
    "    print(\"Trained model saved at:\", save_path)\n",
    "    \n",
    "    with open(\"accuracy_history.p\", \"wb\") as f:\n",
    "        pickle.dump(accuracy_history, f)"
   ]
  },
  {
   "cell_type": "code",
   "execution_count": 16,
   "metadata": {
    "collapsed": false
   },
   "outputs": [
    {
     "name": "stdout",
     "output_type": "stream",
     "text": [
      "Training model from scratch\n",
      "Epoch 1 -- Train acc.: 0.3762, Validation acc.: 0.3691, Elapsed time: 145.93 sec\n"
     ]
    },
    {
     "ename": "TypeError",
     "evalue": "save_model() missing 1 required positional argument: 'sess'",
     "output_type": "error",
     "traceback": [
      "\u001b[0;31m---------------------------------------------------------------------------\u001b[0m",
      "\u001b[0;31mTypeError\u001b[0m                                 Traceback (most recent call last)",
      "\u001b[0;32m<ipython-input-16-2b33a2b1ed6d>\u001b[0m in \u001b[0;36m<module>\u001b[0;34m()\u001b[0m\n\u001b[1;32m    119\u001b[0m     \u001b[0;32mreturn\u001b[0m \u001b[0maccuracy_history\u001b[0m\u001b[0;34m\u001b[0m\u001b[0m\n\u001b[1;32m    120\u001b[0m \u001b[0;34m\u001b[0m\u001b[0m\n\u001b[0;32m--> 121\u001b[0;31m \u001b[0maccuracy_history\u001b[0m \u001b[0;34m=\u001b[0m \u001b[0mtrain\u001b[0m\u001b[0;34m(\u001b[0m\u001b[0;34m)\u001b[0m\u001b[0;34m\u001b[0m\u001b[0m\n\u001b[0m",
      "\u001b[0;32m<ipython-input-16-2b33a2b1ed6d>\u001b[0m in \u001b[0;36mtrain\u001b[0;34m()\u001b[0m\n\u001b[1;32m     78\u001b[0m             \u001b[0;31m# Every 5 epochs save a checkpoint file\u001b[0m\u001b[0;34m\u001b[0m\u001b[0;34m\u001b[0m\u001b[0m\n\u001b[1;32m     79\u001b[0m             \u001b[0;32mif\u001b[0m \u001b[0;34m(\u001b[0m\u001b[0mepoch\u001b[0m\u001b[0;34m+\u001b[0m\u001b[0;36m1\u001b[0m\u001b[0;34m)\u001b[0m \u001b[0;34m%\u001b[0m \u001b[0;36m5\u001b[0m \u001b[0;34m==\u001b[0m \u001b[0;36m0\u001b[0m \u001b[0;32mor\u001b[0m \u001b[0mepoch\u001b[0m \u001b[0;34m==\u001b[0m \u001b[0;36m0\u001b[0m \u001b[0;32mor\u001b[0m \u001b[0;34m(\u001b[0m\u001b[0mepoch\u001b[0m\u001b[0;34m+\u001b[0m\u001b[0;36m1\u001b[0m\u001b[0;34m)\u001b[0m \u001b[0;34m==\u001b[0m \u001b[0mEPOCHS\u001b[0m\u001b[0;34m:\u001b[0m\u001b[0;34m\u001b[0m\u001b[0m\n\u001b[0;32m---> 80\u001b[0;31m                 \u001b[0msave_model\u001b[0m\u001b[0;34m(\u001b[0m\u001b[0msaver\u001b[0m\u001b[0;34m,\u001b[0m \u001b[0msess\u001b[0m\u001b[0;34m,\u001b[0m \u001b[0mepoch\u001b[0m\u001b[0;34m)\u001b[0m\u001b[0;34m\u001b[0m\u001b[0m\n\u001b[0m\u001b[1;32m     81\u001b[0m \u001b[0;34m\u001b[0m\u001b[0m\n\u001b[1;32m     82\u001b[0m             \u001b[0;31m# Implement early stopping by seeing if there are 10 successive worse\u001b[0m\u001b[0;34m\u001b[0m\u001b[0;34m\u001b[0m\u001b[0m\n",
      "\u001b[0;31mTypeError\u001b[0m: save_model() missing 1 required positional argument: 'sess'"
     ]
    }
   ],
   "source": [
    "def train():\n",
    "    \"\"\"\n",
    "    Perform inference (build the model) and train on the train dataset using\n",
    "    minibatch gradient descent; saving results to a checkpoint file at each\n",
    "    successive better vaidation accuracy result.\n",
    "    \"\"\"\n",
    "    # Launch the graph\n",
    "    with tf.Graph().as_default(), tf.Session() as sess:\n",
    "        x, y, keep_prob, logits, optimizer, predictions, accuracy, global_step = inference()\n",
    "        \n",
    "        # TF saver to save/restore trained model\n",
    "        saver = tf.train.Saver()\n",
    "\n",
    "        if RESUME or RESTORE:\n",
    "            print(\"Restoring previously trained model at %s\" % MODEL_SAVE_PATH)\n",
    "            # Restore previously trained model\n",
    "            saver.restore(sess, MODEL_SAVE_PATH)\n",
    "\n",
    "            # Restore previous accuracy history\n",
    "            with open('accuracy_history.p', 'rb') as f:\n",
    "                accuracy_history = pickle.load(f)\n",
    "\n",
    "            if RESTORE:\n",
    "                return accuracy_history\n",
    "        else:\n",
    "            print('Training model...')\n",
    "            init = tf.global_variables_initializer()\n",
    "            sess.run(init)\n",
    "\n",
    "            # For book-keeping, keep track of training and validation accuracy over epochs, like such:\n",
    "            # [(train_acc_epoch1, valid_acc_epoch1), (train_acc_epoch2, valid_acc_epoch2), ...]\n",
    "            accuracy_history = []\n",
    "\n",
    "        # Record time elapsed for performance check\n",
    "        last_time = time.time()\n",
    "        train_start_time = time.time()\n",
    "\n",
    "        # Run EPOCHS epochs of training\n",
    "        for epoch in range(EPOCHS):\n",
    "            \n",
    "            # Run training on each BATCH_SIZE minibatch\n",
    "            for (images, labels) in iterate_minibatches(X_train, y_train, BATCH_SIZE, shuffle=False):\n",
    "                # Perform gradient update (i.e. training step) on current batch\n",
    "                sess.run(optimizer, feed_dict={x: images, y: labels, keep_prob: DROPOUT_KEEP})\n",
    "\n",
    "            # Calculate training and validation accuracy across the *entire* train/validation set\n",
    "            # If train/validation size % batch size != 0\n",
    "            # then we must calculate weighted average of the accuracy of the final (partial) batch,\n",
    "            # w.r.t. the rest of the full batches\n",
    "\n",
    "            # Training set\n",
    "            train_acc = calculate_accuracy(X_train, y_train, BATCH_SIZE_INF, accuracy, x, y, keep_prob, sess)\n",
    "            \n",
    "            # Validation set\n",
    "            valid_acc = calculate_accuracy(X_valid, y_valid, BATCH_SIZE_INF, accuracy, x, y, keep_prob, sess)\n",
    "                        \n",
    "            # Record and report train/validation/test accuracies for this epoch\n",
    "            accuracy_history.append((train_acc, valid_acc))\n",
    "\n",
    "            # Print accuracy every 10 epochs\n",
    "            #if (epoch+1) % 10 == 0 or epoch == 0 or (epoch+1) == EPOCHS:\n",
    "            print('Epoch %d -- Train acc.: %.4f, Validation acc.: %.4f, Elapsed time: %.2f sec' %\\\n",
    "                (epoch+1, train_acc, valid_acc, time.time() - last_time))\n",
    "            last_time = time.time()\n",
    "            \n",
    "\n",
    "        total_time = time.time() - train_start_time\n",
    "        print('Total elapsed time: %.2f sec (%.2f min)' % (total_time, total_time / 60))\n",
    "\n",
    "        # After training is complete, evaluate accuracy on test set - bring back last saved\n",
    "        # checkpoint first, in case we stopped early.\n",
    "        print(\"\\nCalculating test accuracy...\")\n",
    "        test_acc = calculate_accuracy(X_test, y_test, BATCH_SIZE_INF, accuracy, x, y, keep_prob, sess)\n",
    "        print('Test acc.: %.4f' % (test_acc,))\n",
    "\n",
    "        save_model(saver, accuracy_history, sess)\n",
    "                \n",
    "    return accuracy_history\n",
    "                \n",
    "accuracy_history = train()"
   ]
  },
  {
   "cell_type": "markdown",
   "metadata": {},
   "source": [
    "### Plot the training and validation"
   ]
  },
  {
   "cell_type": "code",
   "execution_count": null,
   "metadata": {
    "collapsed": false
   },
   "outputs": [],
   "source": [
    "print(tf.train.latest_checkpoint(\"/\", MODEL_SAVE_PATH))\n",
    "\n",
    "# Accuracy history has been saved as a List of Tuples\n",
    "# Convert to numpy array - shape is EPOCHS x 2\n",
    "# To plot this we transpose so that EPOCHS will be along X-axis\n",
    "\n",
    "hist = np.transpose(np.array(accuracy_history))\n",
    "plt.plot(hist[0], \"b\")  # training accuracy\n",
    "plt.plot(hist[1], \"r\")  # validation accuracy\n",
    "plt.title(\"Accuracy / Epoch (Training in blue and Validation in red)\")\n",
    "plt.ylabel('Accuracy')\n",
    "plt.xlabel('Epoch')\n",
    "plt.show()"
   ]
  },
  {
   "cell_type": "markdown",
   "metadata": {},
   "source": [
    "Test accuracy 0.9602<br>\n",
    "EPOCHS: 40<br>\n",
    "BATCH_SIZE: 128<br>\n",
    "BATCH_SIZE_INF: 2048<br>\n",
    "VALIDATION_SIZE: 0.2<br>\n",
    "LEARNING_RATE: 0.005<br>\n",
    "DROPOUT_KEEP: 0.5<br>\n",
    "\n",
    "Test accuracy 0.9538<br>\n",
    "EPOCHS: 100<br>\n",
    "BATCH_SIZE: 128<br>\n",
    "BATCH_SIZE_INF: 2048<br>\n",
    "VALIDATION_SIZE: 0.2<br>\n",
    "LEARNING_RATE: 0.005<br>\n",
    "DROPOUT_KEEP: 0.5<br>\n",
    "\n",
    "Based on this more than 40 epochs is a waste at current settings is a waste - might pay to implement early stopping.\n",
    "\n"
   ]
  },
  {
   "cell_type": "markdown",
   "metadata": {},
   "source": [
    "### Question 1 \n",
    "\n",
    "_Describe how you preprocessed the data. Why did you choose that technique?_"
   ]
  },
  {
   "cell_type": "markdown",
   "metadata": {},
   "source": [
    "**Answer:**"
   ]
  },
  {
   "cell_type": "code",
   "execution_count": null,
   "metadata": {
    "collapsed": true
   },
   "outputs": [],
   "source": [
    "### Generate data additional data (OPTIONAL!)\n",
    "### and split the data into training/validation/testing sets here.\n",
    "### Feel free to use as many code cells as needed."
   ]
  },
  {
   "cell_type": "markdown",
   "metadata": {},
   "source": [
    "### Question 2\n",
    "\n",
    "_Describe how you set up the training, validation and testing data for your model. **Optional**: If you generated additional data, how did you generate the data? Why did you generate the data? What are the differences in the new dataset (with generated data) from the original dataset?_"
   ]
  },
  {
   "cell_type": "markdown",
   "metadata": {},
   "source": [
    "**Answer:**"
   ]
  },
  {
   "cell_type": "markdown",
   "metadata": {},
   "source": [
    "### Question 3\n",
    "\n",
    "_What does your final architecture look like? (Type of model, layers, sizes, connectivity, etc.)  For reference on how to build a deep neural network using TensorFlow, see [Deep Neural Network in TensorFlow\n",
    "](https://classroom.udacity.com/nanodegrees/nd013/parts/fbf77062-5703-404e-b60c-95b78b2f3f9e/modules/6df7ae49-c61c-4bb2-a23e-6527e69209ec/lessons/b516a270-8600-4f93-a0a3-20dfeabe5da6/concepts/83a3a2a2-a9bd-4b7b-95b0-eb924ab14432) from the classroom._\n"
   ]
  },
  {
   "cell_type": "markdown",
   "metadata": {},
   "source": [
    "**Answer:**"
   ]
  },
  {
   "cell_type": "code",
   "execution_count": null,
   "metadata": {
    "collapsed": true
   },
   "outputs": [],
   "source": [
    "### Train your model here.\n",
    "### Feel free to use as many code cells as needed."
   ]
  },
  {
   "cell_type": "markdown",
   "metadata": {},
   "source": [
    "### Question 4\n",
    "\n",
    "_How did you train your model? (Type of optimizer, batch size, epochs, hyperparameters, etc.)_\n"
   ]
  },
  {
   "cell_type": "markdown",
   "metadata": {},
   "source": [
    "**Answer:**"
   ]
  },
  {
   "cell_type": "markdown",
   "metadata": {},
   "source": [
    "### Question 5\n",
    "\n",
    "\n",
    "_What approach did you take in coming up with a solution to this problem? It may have been a process of trial and error, in which case, outline the steps you took to get to the final solution and why you chose those steps. Perhaps your solution involved an already well known implementation or architecture. In this case, discuss why you think this is suitable for the current problem._"
   ]
  },
  {
   "cell_type": "markdown",
   "metadata": {},
   "source": [
    "**Answer:**"
   ]
  },
  {
   "cell_type": "markdown",
   "metadata": {},
   "source": [
    "---\n",
    "\n",
    "## Step 3: Test a Model on New Images\n",
    "\n",
    "Take several pictures of traffic signs that you find on the web or around you (at least five), and run them through your classifier on your computer to produce example results. The classifier might not recognize some local signs but it could prove interesting nonetheless.\n",
    "\n",
    "You may find `signnames.csv` useful as it contains mappings from the class id (integer) to the actual sign name."
   ]
  },
  {
   "cell_type": "markdown",
   "metadata": {},
   "source": [
    "### Implementation\n",
    "\n",
    "Use the code cell (or multiple code cells, if necessary) to implement the first step of your project. Once you have completed your implementation and are satisfied with the results, be sure to thoroughly answer the questions that follow."
   ]
  },
  {
   "cell_type": "code",
   "execution_count": null,
   "metadata": {
    "collapsed": true
   },
   "outputs": [],
   "source": [
    "### Load the images and plot them here.\n",
    "### Feel free to use as many code cells as needed."
   ]
  },
  {
   "cell_type": "markdown",
   "metadata": {},
   "source": [
    "### Question 6\n",
    "\n",
    "_Choose five candidate images of traffic signs and provide them in the report. Are there any particular qualities of the image(s) that might make classification difficult? It could be helpful to plot the images in the notebook._\n",
    "\n"
   ]
  },
  {
   "cell_type": "markdown",
   "metadata": {},
   "source": [
    "**Answer:**"
   ]
  },
  {
   "cell_type": "code",
   "execution_count": null,
   "metadata": {
    "collapsed": true
   },
   "outputs": [],
   "source": [
    "### Run the predictions here.\n",
    "### Feel free to use as many code cells as needed."
   ]
  },
  {
   "cell_type": "markdown",
   "metadata": {},
   "source": [
    "### Question 7\n",
    "\n",
    "_Is your model able to perform equally well on captured pictures when compared to testing on the dataset? The simplest way to do this check the accuracy of the predictions. For example, if the model predicted 1 out of 5 signs correctly, it's 20% accurate._\n",
    "\n",
    "_**NOTE:** You could check the accuracy manually by using `signnames.csv` (same directory). This file has a mapping from the class id (0-42) to the corresponding sign name. So, you could take the class id the model outputs, lookup the name in `signnames.csv` and see if it matches the sign from the image._\n"
   ]
  },
  {
   "cell_type": "markdown",
   "metadata": {},
   "source": [
    "**Answer:**"
   ]
  },
  {
   "cell_type": "code",
   "execution_count": null,
   "metadata": {
    "collapsed": true
   },
   "outputs": [],
   "source": [
    "### Visualize the softmax probabilities here.\n",
    "### Feel free to use as many code cells as needed."
   ]
  },
  {
   "cell_type": "markdown",
   "metadata": {},
   "source": [
    "### Question 8\n",
    "\n",
    "*Use the model's softmax probabilities to visualize the **certainty** of its predictions, [`tf.nn.top_k`](https://www.tensorflow.org/versions/r0.12/api_docs/python/nn.html#top_k) could prove helpful here. Which predictions is the model certain of? Uncertain? If the model was incorrect in its initial prediction, does the correct prediction appear in the top k? (k should be 5 at most)*\n",
    "\n",
    "`tf.nn.top_k` will return the values and indices (class ids) of the top k predictions. So if k=3, for each sign, it'll return the 3 largest probabilities (out of a possible 43) and the correspoding class ids.\n",
    "\n",
    "Take this numpy array as an example:\n",
    "\n",
    "```\n",
    "# (5, 6) array\n",
    "a = np.array([[ 0.24879643,  0.07032244,  0.12641572,  0.34763842,  0.07893497,\n",
    "         0.12789202],\n",
    "       [ 0.28086119,  0.27569815,  0.08594638,  0.0178669 ,  0.18063401,\n",
    "         0.15899337],\n",
    "       [ 0.26076848,  0.23664738,  0.08020603,  0.07001922,  0.1134371 ,\n",
    "         0.23892179],\n",
    "       [ 0.11943333,  0.29198961,  0.02605103,  0.26234032,  0.1351348 ,\n",
    "         0.16505091],\n",
    "       [ 0.09561176,  0.34396535,  0.0643941 ,  0.16240774,  0.24206137,\n",
    "         0.09155967]])\n",
    "```\n",
    "\n",
    "Running it through `sess.run(tf.nn.top_k(tf.constant(a), k=3))` produces:\n",
    "\n",
    "```\n",
    "TopKV2(values=array([[ 0.34763842,  0.24879643,  0.12789202],\n",
    "       [ 0.28086119,  0.27569815,  0.18063401],\n",
    "       [ 0.26076848,  0.23892179,  0.23664738],\n",
    "       [ 0.29198961,  0.26234032,  0.16505091],\n",
    "       [ 0.34396535,  0.24206137,  0.16240774]]), indices=array([[3, 0, 5],\n",
    "       [0, 1, 4],\n",
    "       [0, 5, 1],\n",
    "       [1, 3, 5],\n",
    "       [1, 4, 3]], dtype=int32))\n",
    "```\n",
    "\n",
    "Looking just at the first row we get `[ 0.34763842,  0.24879643,  0.12789202]`, you can confirm these are the 3 largest probabilities in `a`. You'll also notice `[3, 0, 5]` are the corresponding indices."
   ]
  },
  {
   "cell_type": "markdown",
   "metadata": {},
   "source": [
    "**Answer:**"
   ]
  },
  {
   "cell_type": "markdown",
   "metadata": {},
   "source": [
    "> **Note**: Once you have completed all of the code implementations and successfully answered each question above, you may finalize your work by exporting the iPython Notebook as an HTML document. You can do this by using the menu above and navigating to  \\n\",\n",
    "    \"**File -> Download as -> HTML (.html)**. Include the finished document along with this notebook as your submission."
   ]
  },
  {
   "cell_type": "code",
   "execution_count": null,
   "metadata": {
    "collapsed": true
   },
   "outputs": [],
   "source": []
  }
 ],
 "metadata": {
  "anaconda-cloud": {},
  "kernelspec": {
   "display_name": "Python [default]",
   "language": "python",
   "name": "python3"
  },
  "language_info": {
   "codemirror_mode": {
    "name": "ipython",
    "version": 3
   },
   "file_extension": ".py",
   "mimetype": "text/x-python",
   "name": "python",
   "nbconvert_exporter": "python",
   "pygments_lexer": "ipython3",
   "version": "3.5.2"
  }
 },
 "nbformat": 4,
 "nbformat_minor": 1
}
