{
 "cells": [
  {
   "cell_type": "markdown",
   "metadata": {},
   "source": [
    "# Self-Driving Car Engineer Nanodegree\n",
    "\n",
    "## Deep Learning\n",
    "\n",
    "## Project: Build a Traffic Sign Recognition Classifier\n",
    "\n",
    "In this notebook, a template is provided for you to implement your functionality in stages which is required to successfully complete this project. If additional code is required that cannot be included in the notebook, be sure that the Python code is successfully imported and included in your submission, if necessary. Sections that begin with **'Implementation'** in the header indicate where you should begin your implementation for your project. Note that some sections of implementation are optional, and will be marked with **'Optional'** in the header.\n",
    "\n",
    "In addition to implementing code, there will be questions that you must answer which relate to the project and your implementation. Each section where you will answer a question is preceded by a **'Question'** header. Carefully read each question and provide thorough answers in the following text boxes that begin with **'Answer:'**. Your project submission will be evaluated based on your answers to each of the questions and the implementation you provide.\n",
    "\n",
    ">**Note:** Code and Markdown cells can be executed using the **Shift + Enter** keyboard shortcut. In addition, Markdown cells can be edited by typically double-clicking the cell to enter edit mode."
   ]
  },
  {
   "cell_type": "markdown",
   "metadata": {},
   "source": [
    "---\n",
    "## Step 0: Load The Data"
   ]
  },
  {
   "cell_type": "code",
   "execution_count": 35,
   "metadata": {
    "collapsed": false
   },
   "outputs": [],
   "source": [
    "import pickle\n",
    "import numpy as np\n",
    "import matplotlib.pyplot as plt\n",
    "import tensorflow as tf\n",
    "import tensorflow.contrib.slim as slim  # TensorFlow-Slim\n",
    "from sklearn.model_selection import train_test_split\n",
    "\n",
    "from io import BytesIO\n",
    "from zipfile import ZipFile\n",
    "import requests\n",
    "import os\n",
    "import time\n",
    "import math\n",
    "from PIL import Image\n",
    "import cv2\n",
    "\n",
    "# Visualizations will be shown in the notebook.\n",
    "%matplotlib inline"
   ]
  },
  {
   "cell_type": "code",
   "execution_count": 36,
   "metadata": {
    "collapsed": false
   },
   "outputs": [],
   "source": [
    "# Constants\n",
    "NUMBER_OF_CLASSES = 43\n",
    "IMAGE_SIZE = 32\n",
    "NUMBER_OF_CHANNELS = 3\n",
    "\n",
    "IMAGE_NORMALIZE1 = False\n",
    "IMAGE_NORMALIZE2 = False\n",
    "IMAGE_HISTOGRAM_NORMALIZE = False\n",
    "IMAGE_MEAN_NORMALIZE = False\n",
    "IMAGE_STANDARDISE = True\n",
    "USE_AUGMENTED_DATA = True\n",
    "\n",
    "EPOCHS = 50 #100\n",
    "BATCH_SIZE = 128\n",
    "BATCH_SIZE_INF = 2048\n",
    "VALIDATION_SIZE = 0.2\n",
    "\n",
    "LEARNING_RATE = 5e-3  # 0.0005 for ADAM - 5e-3 for plain gradient descent\n",
    "DROPOUT_KEEP = 0.5  #0.25\n",
    "\n",
    "MODEL_SAVE_PATH = \"./model.ckpt\"\n",
    "\n",
    "RESTORE = False # restore a previously saved model (no training)"
   ]
  },
  {
   "cell_type": "markdown",
   "metadata": {},
   "source": [
    "### Download traffic sign dataset or augmented dataset"
   ]
  },
  {
   "cell_type": "code",
   "execution_count": 37,
   "metadata": {
    "collapsed": true
   },
   "outputs": [],
   "source": [
    "def download_if_not_existing(file_url):\n",
    "    if not os.path.isfile(\"data/test.p\") or not os.path.isfile(\"data/train.p\"):\n",
    "        url = requests.get(file_url)\n",
    "        zipfile = ZipFile(BytesIO(url.content))\n",
    "        zipfile.extractall(path=\"data\")\n",
    "        print(\"data files downloaded and extracted\")\n",
    "    else:\n",
    "        print(\"data file exist\")"
   ]
  },
  {
   "cell_type": "code",
   "execution_count": 38,
   "metadata": {
    "collapsed": false
   },
   "outputs": [
    {
     "name": "stdout",
     "output_type": "stream",
     "text": [
      "Loading augmented training data\n",
      "X_train shape: (235254, 32, 32, 3)\n",
      "y_train shape: (235254,)\n",
      "X_test shape: (12630, 32, 32, 3)\n"
     ]
    }
   ],
   "source": [
    "# Load pickled data\n",
    "\n",
    "# TODO: Fill this in based on where you saved the training and testing data\n",
    "#%time download_if_not_existing(\"https://d17h27t6h515a5.cloudfront.net/topher/2016/November/581faac4_traffic-signs-data/traffic-signs-data.zip\")\n",
    "\n",
    "# ENSURE YOU RUN THE DATA_AUGMENTOR NOTEBOOK TO RETRIEVE DATA FILES FIRST !!!\n",
    "if USE_AUGMENTED_DATA:\n",
    "    print(\"Loading augmented training data\")\n",
    "    training_file = \"data/augmented_X_train.p\"\n",
    "    training_label_file = \"data/augmented_y_train.p\"\n",
    "    testing_file = \"data/test.p\"\n",
    "    with open(training_file, mode='rb') as f:\n",
    "        train = pickle.load(f)\n",
    "    with open(training_label_file, mode='rb') as f:\n",
    "        train_labels = pickle.load(f)\n",
    "    with open(testing_file, mode='rb') as f:\n",
    "        test = pickle.load(f)\n",
    "    \n",
    "    X_train = np.array(train, dtype=np.float32())\n",
    "    y_train = np.array(train_labels, dtype=np.float32())\n",
    "    X_test, y_test = test[\"features\"], test[\"labels\"]\n",
    "    \n",
    "else:\n",
    "    print(\"Loading standard training data\")\n",
    "    training_file = \"data/train.p\"\n",
    "    testing_file = \"data/test.p\"\n",
    "    with open(training_file, mode='rb') as f:\n",
    "        train = pickle.load(f)\n",
    "    with open(testing_file, mode='rb') as f:\n",
    "        test = pickle.load(f)\n",
    "\n",
    "    X_train, y_train = train[\"features\"], train[\"labels\"]\n",
    "    X_test, y_test = test[\"features\"], test[\"labels\"]\n",
    "\n",
    "    \n",
    "print(\"X_train shape:\", X_train.shape)\n",
    "print(\"y_train shape:\", y_train.shape)\n",
    "print(\"X_test shape:\", X_test.shape)"
   ]
  },
  {
   "cell_type": "markdown",
   "metadata": {},
   "source": [
    "---\n",
    "\n",
    "## Step 1: Dataset Summary & Exploration\n",
    "\n",
    "The pickled data is a dictionary with 4 key/value pairs:\n",
    "\n",
    "- `'features'` is a 4D array containing raw pixel data of the traffic sign images, (num examples, width, height, channels).\n",
    "- `'labels'` is a 2D array containing the label/class id of the traffic sign. The file `signnames.csv` contains id -> name mappings for each id.\n",
    "- `'sizes'` is a list containing tuples, (width, height) representing the the original width and height the image.\n",
    "- `'coords'` is a list containing tuples, (x1, y1, x2, y2) representing coordinates of a bounding box around the sign in the image. **THESE COORDINATES ASSUME THE ORIGINAL IMAGE. THE PICKLED DATA CONTAINS RESIZED VERSIONS (32 by 32) OF THESE IMAGES**\n",
    "\n",
    "Complete the basic data summary below."
   ]
  },
  {
   "cell_type": "code",
   "execution_count": 39,
   "metadata": {
    "collapsed": false
   },
   "outputs": [
    {
     "name": "stdout",
     "output_type": "stream",
     "text": [
      "Number of training examples = 235254\n",
      "Number of testing examples = 12630\n",
      "Image data shape = (32, 32)\n",
      "Number of classes = 43\n"
     ]
    }
   ],
   "source": [
    "### Replace each question mark with the appropriate value.\n",
    "\n",
    "# TODO: Number of training examples\n",
    "n_train = X_train.shape[0]\n",
    "\n",
    "# TODO: Number of testing examples.\n",
    "n_test = X_test.shape[0]\n",
    "\n",
    "# TODO: What's the shape of an traffic sign image?\n",
    "image_shape = X_train.shape[1:3]\n",
    "\n",
    "# TODO: How many unique classes/labels there are in the dataset.\n",
    "n_classes = np.unique(y_train).shape[0]\n",
    "\n",
    "print(\"Number of training examples =\", n_train)\n",
    "print(\"Number of testing examples =\", n_test)\n",
    "print(\"Image data shape =\", image_shape)\n",
    "print(\"Number of classes =\", n_classes)"
   ]
  },
  {
   "cell_type": "markdown",
   "metadata": {},
   "source": [
    "### Visualise some traffic sign images from the dataset"
   ]
  },
  {
   "cell_type": "markdown",
   "metadata": {},
   "source": [
    "Visualize the German Traffic Signs Dataset using the pickled file(s). This is open ended, suggestions include: plotting traffic sign images, plotting the count of each sign, etc.\n",
    "\n",
    "The [Matplotlib](http://matplotlib.org/) [examples](http://matplotlib.org/examples/index.html) and [gallery](http://matplotlib.org/gallery.html) pages are a great resource for doing visualizations in Python.\n",
    "\n",
    "**NOTE:** It's recommended you start with something simple first. If you wish to do more, come back to it after you've completed the rest of the sections."
   ]
  },
  {
   "cell_type": "code",
   "execution_count": 40,
   "metadata": {
    "collapsed": false
   },
   "outputs": [
    {
     "name": "stderr",
     "output_type": "stream",
     "text": [
      "//anaconda/envs/CarND-Traffic-Sign-Classifier-Project/lib/python3.5/site-packages/ipykernel/__main__.py:24: VisibleDeprecationWarning: using a non-integer number instead of an integer will result in an error in the future\n"
     ]
    },
    {
     "data": {
      "image/png": "[encoded data removed]",
      "text/plain": [
       "<matplotlib.figure.Figure at 0x13fd038d0>"
      ]
     },
     "metadata": {},
     "output_type": "display_data"
    }
   ],
   "source": [
    "### Data exploration visualization goes here.\n",
    "### Feel free to use as many code cells as needed.\n",
    "\n",
    "# Read the sign names into a numpy array (note first row is col headings)\n",
    "# By setting dtype to None, genfromtxt will try to automatically work\n",
    "# out the data types - however for strings it gives byte sequences so \n",
    "# we convert them to strings when needed.\n",
    "signnames = np.genfromtxt(\"signnames.csv\", delimiter=\",\", dtype=None)\n",
    "\n",
    "# Pick a random sample of the training images\n",
    "num_images_to_show = 6\n",
    "indices = np.random.randint(0, n_train, num_images_to_show)\n",
    "images = X_train[indices]\n",
    "labels = y_train[indices]\n",
    "\n",
    "plt.rcParams[\"figure.figsize\"] = [15, 5]\n",
    "plt.axis(\"off\")  # clear x- and y-axes\n",
    "\n",
    "for i, image in enumerate(images):\n",
    "    plt.subplot(1, num_images_to_show, i+1)\n",
    "    plt.axis(\"off\")  # clear x- and y-axes\n",
    "    plt.imshow(image)\n",
    "    label_idx = labels[i]\n",
    "    plt.title(signnames[label_idx+1][1].decode(\"utf-8\"))\n",
    "    \n",
    "plt.tight_layout()"
   ]
  },
  {
   "cell_type": "code",
   "execution_count": 41,
   "metadata": {
    "collapsed": false
   },
   "outputs": [
    {
     "data": {
      "image/png": "[encoded data removed]",
      "text/plain": [
       "<matplotlib.figure.Figure at 0x22e329198>"
      ]
     },
     "metadata": {},
     "output_type": "display_data"
    }
   ],
   "source": [
    "# Plot a bar chart of the label counts\n",
    "# np.unique -> Returns the sorted unique elements of an array\n",
    "labels, counts = np.unique(y_train, return_counts=True)\n",
    "\n",
    "plt.figure()\n",
    "axes = plt.gca()\n",
    "axes.set_xlim([-1,43])\n",
    "plt.bar(labels, counts, tick_label=labels, width=0.8, align=\"center\")\n",
    "plt.title(\"Traffic sign (label) frequency distribution in the Train set\")\n",
    "plt.show()"
   ]
  },
  {
   "cell_type": "markdown",
   "metadata": {},
   "source": [
    "----\n",
    "\n",
    "## Step 2: Design and Test a Model Architecture\n",
    "\n",
    "Design and implement a deep learning model that learns to recognize traffic signs. Train and test your model on the [German Traffic Sign Dataset](http://benchmark.ini.rub.de/?section=gtsrb&subsection=dataset).\n",
    "\n",
    "There are various aspects to consider when thinking about this problem:\n",
    "\n",
    "- Neural network architecture\n",
    "- Play around preprocessing techniques (normalization, rgb to grayscale, etc)\n",
    "- Number of examples per label (some have more than others).\n",
    "- Generate fake data.\n",
    "\n",
    "Here is an example of a [published baseline model on this problem](http://yann.lecun.com/exdb/publis/pdf/sermanet-ijcnn-11.pdf). It's not required to be familiar with the approach used in the paper but, it's good practice to try to read papers like these.\n",
    "\n",
    "**NOTE:** The LeNet-5 implementation shown in the [classroom](https://classroom.udacity.com/nanodegrees/nd013/parts/fbf77062-5703-404e-b60c-95b78b2f3f9e/modules/6df7ae49-c61c-4bb2-a23e-6527e69209ec/lessons/601ae704-1035-4287-8b11-e2c2716217ad/concepts/d4aca031-508f-4e0b-b493-e7b706120f81) at the end of the CNN lesson is a solid starting point. You'll have to change the number of classes and possibly the preprocessing, but aside from that it's plug and play!"
   ]
  },
  {
   "cell_type": "markdown",
   "metadata": {},
   "source": [
    "### Implementation\n",
    "\n",
    "Use the code cell (or multiple code cells, if necessary) to implement the first step of your project. Once you have completed your implementation and are satisfied with the results, be sure to thoroughly answer the questions that follow."
   ]
  },
  {
   "cell_type": "markdown",
   "metadata": {},
   "source": [
    "### Image augmentation"
   ]
  },
  {
   "cell_type": "markdown",
   "metadata": {},
   "source": [
    "### Pre-processing and train/validation/test split"
   ]
  },
  {
   "cell_type": "code",
   "execution_count": 42,
   "metadata": {
    "collapsed": true
   },
   "outputs": [],
   "source": [
    "def standardise(X):\n",
    "    return (X - np.mean(X)) / np.std(X)"
   ]
  },
  {
   "cell_type": "code",
   "execution_count": 43,
   "metadata": {
    "collapsed": true
   },
   "outputs": [],
   "source": [
    "def normalize(f):\n",
    "    \"\"\"\n",
    "    Intensity min-max normalization\n",
    "    \"\"\"\n",
    "    lmin = float(f.min())\n",
    "    lmax = float(f.max())\n",
    "    return np.floor((f - lmin) / (lmax - lmin) * 255.)"
   ]
  },
  {
   "cell_type": "code",
   "execution_count": 44,
   "metadata": {
    "collapsed": true
   },
   "outputs": [],
   "source": [
    "def equalize(f):\n",
    "    \"\"\"\n",
    "    Histogram normalization\n",
    "    \"\"\"\n",
    "    h = np.histogram(f, bins=np.arange(256))[0]\n",
    "    H = np.cumsum(h) / float(np.sum(h))\n",
    "    e = np.floor(H[f.flatten().astype(\"int\")-1] * 255.)\n",
    "    return e.reshape(f.shape)"
   ]
  },
  {
   "cell_type": "code",
   "execution_count": 46,
   "metadata": {
    "collapsed": true
   },
   "outputs": [],
   "source": [
    "def mean_normalization(X):\n",
    "    lmin = float(X.min())\n",
    "    lmax = float(X.max())\n",
    "    return (X - np.mean(X)) / (lmax-lmin)"
   ]
  },
  {
   "cell_type": "code",
   "execution_count": 47,
   "metadata": {
    "collapsed": true
   },
   "outputs": [],
   "source": [
    "def preprocess(X, y):\n",
    "    \"\"\"\n",
    "    Preprocess image data, and convert labels into one-hot\n",
    "    \"\"\"\n",
    "    # Convert from RGB to grayscale if applicable\n",
    "    #if GRAYSCALE:\n",
    "    #    X = rgb_to_gray(X)\n",
    "\n",
    "    # Make all image array values fall within the range -1 to 1\n",
    "    # Note all values in original images are between 0 and 255, as uint8\n",
    "    X = X.astype(\"float32\")\n",
    "    \n",
    "    if IMAGE_NORMALIZE1:\n",
    "        print(\"Normalizing image data between 1 and -1\")\n",
    "        X = (X - 128.) / 128.\n",
    "    if IMAGE_NORMALIZE2:\n",
    "        print(\"Intensity normalizing images processed\")\n",
    "        X = normalize(X)\n",
    "    if IMAGE_HISTOGRAM_NORMALIZE:\n",
    "        print(\"Histogram normalisation processed\")\n",
    "        X = equalize(X)\n",
    "    if IMAGE_MEAN_NORMALIZE:\n",
    "        print(\"Image mean normalisation processed\")\n",
    "        X = mean_normalization(X)\n",
    "    if IMAGE_STANDARDISE:\n",
    "        print(\"Images standardised\")\n",
    "        X = standardise(X)\n",
    "    \n",
    "\n",
    "    # Convert the labels from numerical labels to one-hot encoded labels\n",
    "    y_onehot = np.zeros((y.shape[0], NUMBER_OF_CLASSES))\n",
    "    #y = np.eye(NUMBER_OF_CLASSES)[y_onehot.astype(int)]\n",
    "    for i, onehot_label in enumerate(y_onehot):\n",
    "        onehot_label[y[i]] = 1.\n",
    "    y = y_onehot\n",
    "\n",
    "    return X, y"
   ]
  },
  {
   "cell_type": "code",
   "execution_count": 48,
   "metadata": {
    "collapsed": false
   },
   "outputs": [
    {
     "name": "stdout",
     "output_type": "stream",
     "text": [
      "Images standardised\n"
     ]
    },
    {
     "name": "stderr",
     "output_type": "stream",
     "text": [
      "//anaconda/envs/CarND-Traffic-Sign-Classifier-Project/lib/python3.5/site-packages/ipykernel/__main__.py:34: VisibleDeprecationWarning: using a non-integer number instead of an integer will result in an error in the future\n"
     ]
    },
    {
     "name": "stdout",
     "output_type": "stream",
     "text": [
      "Images standardised\n",
      "Train, Validation & Test data ready\n"
     ]
    }
   ],
   "source": [
    "X_train, y_train = preprocess(X_train, y_train)\n",
    "X_test, y_test = preprocess(X_test, y_test)\n",
    "\n",
    "X_train, X_valid, y_train, y_valid = train_test_split(X_train, y_train, test_size=VALIDATION_SIZE)\n",
    "\n",
    "print(\"Train, Validation & Test data ready\")"
   ]
  },
  {
   "cell_type": "markdown",
   "metadata": {},
   "source": [
    "### Iteration generator for mini-batches"
   ]
  },
  {
   "cell_type": "code",
   "execution_count": 49,
   "metadata": {
    "collapsed": true
   },
   "outputs": [],
   "source": [
    "def iterate_minibatches(inputs, targets, batchsize, shuffle=False):\n",
    "    assert inputs.shape[0] == targets.shape[0]\n",
    "    \n",
    "    if shuffle:\n",
    "        indices = np.arange(inputs.shape[0])\n",
    "        np.random.shuffle(indices)\n",
    "        \n",
    "    for start_idx in range(0, inputs.shape[0] - batchsize + 1, batchsize):\n",
    "        if shuffle:\n",
    "            excerpt = indices[start_idx:start_idx + batchsize]\n",
    "        else:\n",
    "            excerpt = slice(start_idx, start_idx + batchsize)\n",
    "            \n",
    "        yield inputs[excerpt], targets[excerpt]"
   ]
  },
  {
   "cell_type": "markdown",
   "metadata": {},
   "source": [
    "### Calculate and return accuracy with TF operations"
   ]
  },
  {
   "cell_type": "code",
   "execution_count": 50,
   "metadata": {
    "collapsed": true
   },
   "outputs": [],
   "source": [
    "def calculate_accuracy(inputs, targets, batch_size, accuracy, x, y, keep_prob, sess):\n",
    "    \"\"\"\n",
    "    Helper function to calculate accuracy on a given dataset - averaging over the batch size.\n",
    "    \"\"\"\n",
    "    data_size = inputs.shape[0]\n",
    "    num_batches = math.ceil(data_size / batch_size)\n",
    "    last_batch_size = data_size % batch_size\n",
    "\n",
    "    accs = []  # accuracy for each batch\n",
    "    \n",
    "    for batch in iterate_minibatches(inputs, targets, batch_size, shuffle=True):\n",
    "        images, labels = batch\n",
    "            \n",
    "        # Perform forward pass and calculate accuracy\n",
    "        # Note we set keep_prob to 1.0, since we are performing inference\n",
    "        acc = sess.run(accuracy, feed_dict={x: images, y: labels, keep_prob: 1.})\n",
    "        accs.append(acc)\n",
    "        \n",
    "    # Calculate average accuracy of all full batches (the last batch is the only partial batch)\n",
    "    acc_full = np.mean(accs[:-1])\n",
    "    \n",
    "    # Calculate weighted average of accuracy accross batches\n",
    "    acc = (acc_full * (data_size - last_batch_size) + accs[-1] * last_batch_size) / data_size\n",
    "    \n",
    "    return acc"
   ]
  },
  {
   "cell_type": "markdown",
   "metadata": {},
   "source": [
    "### Build TF network architecture (using tf-slim helpers)"
   ]
  },
  {
   "cell_type": "code",
   "execution_count": 51,
   "metadata": {
    "collapsed": true
   },
   "outputs": [],
   "source": [
    "def inference():\n",
    "    with tf.variable_scope(\"neural_network\"):\n",
    "        # Tensors representing input images and labels\n",
    "        with tf.name_scope(\"input\"):\n",
    "            x = tf.placeholder(\"float\", [None, IMAGE_SIZE, IMAGE_SIZE, NUMBER_OF_CHANNELS], name=\"images-input\")\n",
    "            y = tf.placeholder(\"float\", [None, NUMBER_OF_CLASSES], name=\"labels-input\")\n",
    "            # Placeholder for dropout keep probability\n",
    "            keep_prob = tf.placeholder(tf.float32, name=\"Dropout\")\n",
    "\n",
    "        # Use batch normalization for all convolution layers\n",
    "        with slim.arg_scope([slim.conv2d], normalizer_fn=slim.batch_norm):\n",
    "            # Given x shape is (32, 32, 3)\n",
    "            # Conv and pool layers\n",
    "            n = slim.conv2d(x, 3, [1, 1], scope=\"conv_0\")  # 1x1 x num_colours - filters to find best colour maps\n",
    "            n = slim.conv2d(x, 16, [3, 3], scope=\"conv_1\")\n",
    "            n = slim.max_pool2d(n, [3, 3], 1, padding=\"SAME\", scope=\"pool_1\")\n",
    "            n = slim.conv2d(n, 64, [5, 5], 3, padding=\"VALID\", scope=\"conv_2\")\n",
    "            n = slim.max_pool2d(n, [3, 3], 1, scope=\"pool_2\")\n",
    "            n = slim.conv2d(n, 128, [3, 3], scope=\"conv_3\")\n",
    "            n = slim.max_pool2d(n, [3, 3], 1, scope=\"pool_3\")\n",
    "            n = slim.conv2d(n, 256, [3, 3], scope=\"conv_4\")\n",
    "            n = slim.max_pool2d(n, [3, 3], 1, scope=\"pool_4\")\n",
    "\n",
    "            # Final fully-connected layers\n",
    "            n = tf.contrib.layers.flatten(n)\n",
    "            n = slim.fully_connected(n, 1024, scope=\"fully_conneted_1\")\n",
    "            with tf.name_scope(\"dropout_1\"):\n",
    "                n = tf.nn.dropout(n, keep_prob)\n",
    "            n = slim.fully_connected(n, 1024, scope=\"fully_connect_2\")\n",
    "            with tf.name_scope(\"dropout_2\"):\n",
    "                n = tf.nn.dropout(n, keep_prob)\n",
    "            n = slim.fully_connected(n, NUMBER_OF_CLASSES, scope=\"fully_connected_3\")\n",
    "\n",
    "        # Final output - Logits\n",
    "        logits = n\n",
    "\n",
    "        # Loss (data loss and regularization loss) and optimizer\n",
    "        loss = tf.reduce_mean(tf.nn.softmax_cross_entropy_with_logits(logits, y))\n",
    "        optimizer = tf.train.GradientDescentOptimizer(learning_rate=LEARNING_RATE).minimize(loss)\n",
    "        #optimizer = tf.train.AdamOptimizer(learning_rate=LEARNING_RATE).minimize(loss)\n",
    "        \n",
    "        # Prediction (used during inference)\n",
    "        predictions = tf.argmax(logits, 1)\n",
    "\n",
    "        # Accuracy metric calculation\n",
    "        correct_prediction = tf.equal(predictions, tf.argmax(y, 1))\n",
    "        accuracy = tf.reduce_mean(tf.cast(correct_prediction, tf.float32))\n",
    "\n",
    "    # Return relevant tensor references\n",
    "    return x, y, keep_prob, logits, optimizer, predictions, accuracy"
   ]
  },
  {
   "cell_type": "code",
   "execution_count": 52,
   "metadata": {
    "collapsed": false
   },
   "outputs": [],
   "source": [
    "def save_model(saver, accuracy_history, sess):\n",
    "    \"\"\"\n",
    "    Save model and accuracy data to disk (TF checkpoint)\n",
    "    \"\"\"\n",
    "    save_path = saver.save(sess, MODEL_SAVE_PATH)\n",
    "    print(\"Trained model saved at:\", save_path)\n",
    "    \n",
    "    with open(\"accuracy_history.p\", \"wb\") as f:\n",
    "        pickle.dump(accuracy_history, f)"
   ]
  },
  {
   "cell_type": "markdown",
   "metadata": {},
   "source": [
    "### Train the network or load saved parameters"
   ]
  },
  {
   "cell_type": "code",
   "execution_count": 53,
   "metadata": {
    "collapsed": false
   },
   "outputs": [
    {
     "name": "stdout",
     "output_type": "stream",
     "text": [
      "Training model over 50 epochs...\n",
      "With parameters:\n",
      " - batch size: 128\n",
      " - learning rate: 0.0050\n",
      " - dropout keep: 0.5000\n",
      "\n"
     ]
    },
    {
     "ename": "KeyboardInterrupt",
     "evalue": "",
     "output_type": "error",
     "traceback": [
      "\u001b[0;31m---------------------------------------------------------------------------\u001b[0m",
      "\u001b[0;31mKeyboardInterrupt\u001b[0m                         Traceback (most recent call last)",
      "\u001b[0;32m<ipython-input-53-b5f0123d1730>\u001b[0m in \u001b[0;36m<module>\u001b[0;34m()\u001b[0m\n\u001b[1;32m     69\u001b[0m     \u001b[0;32mreturn\u001b[0m \u001b[0maccuracy_history\u001b[0m\u001b[0;34m\u001b[0m\u001b[0m\n\u001b[1;32m     70\u001b[0m \u001b[0;34m\u001b[0m\u001b[0m\n\u001b[0;32m---> 71\u001b[0;31m \u001b[0maccuracy_history\u001b[0m \u001b[0;34m=\u001b[0m \u001b[0mtrain\u001b[0m\u001b[0;34m(\u001b[0m\u001b[0;34m)\u001b[0m\u001b[0;34m\u001b[0m\u001b[0m\n\u001b[0m",
      "\u001b[0;32m<ipython-input-53-b5f0123d1730>\u001b[0m in \u001b[0;36mtrain\u001b[0;34m()\u001b[0m\n\u001b[1;32m     42\u001b[0m             \u001b[0;31m# Run training on each BATCH_SIZE minibatch\u001b[0m\u001b[0;34m\u001b[0m\u001b[0;34m\u001b[0m\u001b[0m\n\u001b[1;32m     43\u001b[0m             \u001b[0;32mfor\u001b[0m \u001b[0;34m(\u001b[0m\u001b[0mimages\u001b[0m\u001b[0;34m,\u001b[0m \u001b[0mlabels\u001b[0m\u001b[0;34m)\u001b[0m \u001b[0;32min\u001b[0m \u001b[0miterate_minibatches\u001b[0m\u001b[0;34m(\u001b[0m\u001b[0mX_train\u001b[0m\u001b[0;34m,\u001b[0m \u001b[0my_train\u001b[0m\u001b[0;34m,\u001b[0m \u001b[0mBATCH_SIZE\u001b[0m\u001b[0;34m,\u001b[0m \u001b[0mshuffle\u001b[0m\u001b[0;34m=\u001b[0m\u001b[0;32mTrue\u001b[0m\u001b[0;34m)\u001b[0m\u001b[0;34m:\u001b[0m\u001b[0;34m\u001b[0m\u001b[0m\n\u001b[0;32m---> 44\u001b[0;31m                 \u001b[0msess\u001b[0m\u001b[0;34m.\u001b[0m\u001b[0mrun\u001b[0m\u001b[0;34m(\u001b[0m\u001b[0moptimizer\u001b[0m\u001b[0;34m,\u001b[0m \u001b[0mfeed_dict\u001b[0m\u001b[0;34m=\u001b[0m\u001b[0;34m{\u001b[0m\u001b[0mx\u001b[0m\u001b[0;34m:\u001b[0m \u001b[0mimages\u001b[0m\u001b[0;34m,\u001b[0m \u001b[0my\u001b[0m\u001b[0;34m:\u001b[0m \u001b[0mlabels\u001b[0m\u001b[0;34m,\u001b[0m \u001b[0mkeep_prob\u001b[0m\u001b[0;34m:\u001b[0m \u001b[0mDROPOUT_KEEP\u001b[0m\u001b[0;34m}\u001b[0m\u001b[0;34m)\u001b[0m\u001b[0;34m\u001b[0m\u001b[0m\n\u001b[0m\u001b[1;32m     45\u001b[0m \u001b[0;34m\u001b[0m\u001b[0m\n\u001b[1;32m     46\u001b[0m             \u001b[0;31m# Average accuracy over training set\u001b[0m\u001b[0;34m\u001b[0m\u001b[0;34m\u001b[0m\u001b[0m\n",
      "\u001b[0;32m//anaconda/envs/CarND-Traffic-Sign-Classifier-Project/lib/python3.5/site-packages/tensorflow/python/client/session.py\u001b[0m in \u001b[0;36mrun\u001b[0;34m(self, fetches, feed_dict, options, run_metadata)\u001b[0m\n\u001b[1;32m    764\u001b[0m     \u001b[0;32mtry\u001b[0m\u001b[0;34m:\u001b[0m\u001b[0;34m\u001b[0m\u001b[0m\n\u001b[1;32m    765\u001b[0m       result = self._run(None, fetches, feed_dict, options_ptr,\n\u001b[0;32m--> 766\u001b[0;31m                          run_metadata_ptr)\n\u001b[0m\u001b[1;32m    767\u001b[0m       \u001b[0;32mif\u001b[0m \u001b[0mrun_metadata\u001b[0m\u001b[0;34m:\u001b[0m\u001b[0;34m\u001b[0m\u001b[0m\n\u001b[1;32m    768\u001b[0m         \u001b[0mproto_data\u001b[0m \u001b[0;34m=\u001b[0m \u001b[0mtf_session\u001b[0m\u001b[0;34m.\u001b[0m\u001b[0mTF_GetBuffer\u001b[0m\u001b[0;34m(\u001b[0m\u001b[0mrun_metadata_ptr\u001b[0m\u001b[0;34m)\u001b[0m\u001b[0;34m\u001b[0m\u001b[0m\n",
      "\u001b[0;32m//anaconda/envs/CarND-Traffic-Sign-Classifier-Project/lib/python3.5/site-packages/tensorflow/python/client/session.py\u001b[0m in \u001b[0;36m_run\u001b[0;34m(self, handle, fetches, feed_dict, options, run_metadata)\u001b[0m\n\u001b[1;32m    962\u001b[0m     \u001b[0;32mif\u001b[0m \u001b[0mfinal_fetches\u001b[0m \u001b[0;32mor\u001b[0m \u001b[0mfinal_targets\u001b[0m\u001b[0;34m:\u001b[0m\u001b[0;34m\u001b[0m\u001b[0m\n\u001b[1;32m    963\u001b[0m       results = self._do_run(handle, final_targets, final_fetches,\n\u001b[0;32m--> 964\u001b[0;31m                              feed_dict_string, options, run_metadata)\n\u001b[0m\u001b[1;32m    965\u001b[0m     \u001b[0;32melse\u001b[0m\u001b[0;34m:\u001b[0m\u001b[0;34m\u001b[0m\u001b[0m\n\u001b[1;32m    966\u001b[0m       \u001b[0mresults\u001b[0m \u001b[0;34m=\u001b[0m \u001b[0;34m[\u001b[0m\u001b[0;34m]\u001b[0m\u001b[0;34m\u001b[0m\u001b[0m\n",
      "\u001b[0;32m//anaconda/envs/CarND-Traffic-Sign-Classifier-Project/lib/python3.5/site-packages/tensorflow/python/client/session.py\u001b[0m in \u001b[0;36m_do_run\u001b[0;34m(self, handle, target_list, fetch_list, feed_dict, options, run_metadata)\u001b[0m\n\u001b[1;32m   1012\u001b[0m     \u001b[0;32mif\u001b[0m \u001b[0mhandle\u001b[0m \u001b[0;32mis\u001b[0m \u001b[0;32mNone\u001b[0m\u001b[0;34m:\u001b[0m\u001b[0;34m\u001b[0m\u001b[0m\n\u001b[1;32m   1013\u001b[0m       return self._do_call(_run_fn, self._session, feed_dict, fetch_list,\n\u001b[0;32m-> 1014\u001b[0;31m                            target_list, options, run_metadata)\n\u001b[0m\u001b[1;32m   1015\u001b[0m     \u001b[0;32melse\u001b[0m\u001b[0;34m:\u001b[0m\u001b[0;34m\u001b[0m\u001b[0m\n\u001b[1;32m   1016\u001b[0m       return self._do_call(_prun_fn, self._session, handle, feed_dict,\n",
      "\u001b[0;32m//anaconda/envs/CarND-Traffic-Sign-Classifier-Project/lib/python3.5/site-packages/tensorflow/python/client/session.py\u001b[0m in \u001b[0;36m_do_call\u001b[0;34m(self, fn, *args)\u001b[0m\n\u001b[1;32m   1019\u001b[0m   \u001b[0;32mdef\u001b[0m \u001b[0m_do_call\u001b[0m\u001b[0;34m(\u001b[0m\u001b[0mself\u001b[0m\u001b[0;34m,\u001b[0m \u001b[0mfn\u001b[0m\u001b[0;34m,\u001b[0m \u001b[0;34m*\u001b[0m\u001b[0margs\u001b[0m\u001b[0;34m)\u001b[0m\u001b[0;34m:\u001b[0m\u001b[0;34m\u001b[0m\u001b[0m\n\u001b[1;32m   1020\u001b[0m     \u001b[0;32mtry\u001b[0m\u001b[0;34m:\u001b[0m\u001b[0;34m\u001b[0m\u001b[0m\n\u001b[0;32m-> 1021\u001b[0;31m       \u001b[0;32mreturn\u001b[0m \u001b[0mfn\u001b[0m\u001b[0;34m(\u001b[0m\u001b[0;34m*\u001b[0m\u001b[0margs\u001b[0m\u001b[0;34m)\u001b[0m\u001b[0;34m\u001b[0m\u001b[0m\n\u001b[0m\u001b[1;32m   1022\u001b[0m     \u001b[0;32mexcept\u001b[0m \u001b[0merrors\u001b[0m\u001b[0;34m.\u001b[0m\u001b[0mOpError\u001b[0m \u001b[0;32mas\u001b[0m \u001b[0me\u001b[0m\u001b[0;34m:\u001b[0m\u001b[0;34m\u001b[0m\u001b[0m\n\u001b[1;32m   1023\u001b[0m       \u001b[0mmessage\u001b[0m \u001b[0;34m=\u001b[0m \u001b[0mcompat\u001b[0m\u001b[0;34m.\u001b[0m\u001b[0mas_text\u001b[0m\u001b[0;34m(\u001b[0m\u001b[0me\u001b[0m\u001b[0;34m.\u001b[0m\u001b[0mmessage\u001b[0m\u001b[0;34m)\u001b[0m\u001b[0;34m\u001b[0m\u001b[0m\n",
      "\u001b[0;32m//anaconda/envs/CarND-Traffic-Sign-Classifier-Project/lib/python3.5/site-packages/tensorflow/python/client/session.py\u001b[0m in \u001b[0;36m_run_fn\u001b[0;34m(session, feed_dict, fetch_list, target_list, options, run_metadata)\u001b[0m\n\u001b[1;32m   1001\u001b[0m         return tf_session.TF_Run(session, options,\n\u001b[1;32m   1002\u001b[0m                                  \u001b[0mfeed_dict\u001b[0m\u001b[0;34m,\u001b[0m \u001b[0mfetch_list\u001b[0m\u001b[0;34m,\u001b[0m \u001b[0mtarget_list\u001b[0m\u001b[0;34m,\u001b[0m\u001b[0;34m\u001b[0m\u001b[0m\n\u001b[0;32m-> 1003\u001b[0;31m                                  status, run_metadata)\n\u001b[0m\u001b[1;32m   1004\u001b[0m \u001b[0;34m\u001b[0m\u001b[0m\n\u001b[1;32m   1005\u001b[0m     \u001b[0;32mdef\u001b[0m \u001b[0m_prun_fn\u001b[0m\u001b[0;34m(\u001b[0m\u001b[0msession\u001b[0m\u001b[0;34m,\u001b[0m \u001b[0mhandle\u001b[0m\u001b[0;34m,\u001b[0m \u001b[0mfeed_dict\u001b[0m\u001b[0;34m,\u001b[0m \u001b[0mfetch_list\u001b[0m\u001b[0;34m)\u001b[0m\u001b[0;34m:\u001b[0m\u001b[0;34m\u001b[0m\u001b[0m\n",
      "\u001b[0;31mKeyboardInterrupt\u001b[0m: "
     ]
    }
   ],
   "source": [
    "def train():\n",
    "    \"\"\"\n",
    "    Perform inference (build the model) and train on the train dataset using\n",
    "    stochastic gradient descent with minibatches; saving results to a file\n",
    "    for later use.\n",
    "    \"\"\"\n",
    "    # Launch the graph\n",
    "    with tf.Graph().as_default(), tf.Session() as sess:\n",
    "        x, y, keep_prob, logits, optimizer, predictions, accuracy = inference()\n",
    "        saver = tf.train.Saver()\n",
    "\n",
    "        if RESTORE:\n",
    "            print(\"Restoring previously trained model at %s\" % MODEL_SAVE_PATH)\n",
    "            saver.restore(sess, MODEL_SAVE_PATH)\n",
    "\n",
    "            # Restore previous accuracy history\n",
    "            with open('accuracy_history.p', 'rb') as f:\n",
    "                accuracy_history = pickle.load(f)\n",
    "\n",
    "            return accuracy_history\n",
    "        \n",
    "        else:\n",
    "            print(\"Training model over %d epochs...\" % EPOCHS)\n",
    "            print(\"With parameters:\")\n",
    "            print(\" - batch size: %d\" % BATCH_SIZE)\n",
    "            print(\" - learning rate: %.4f\" % LEARNING_RATE)\n",
    "            print(\" - dropout keep: %.4f\\n\" % DROPOUT_KEEP)\n",
    "            \n",
    "            init = tf.global_variables_initializer()\n",
    "            sess.run(init)\n",
    "\n",
    "            # For plotting purposes we keep track of the training and validation accuracies\n",
    "            accuracy_history = []\n",
    "\n",
    "        # Timing\n",
    "        last_time = time.time()\n",
    "        train_start_time = time.time()\n",
    "\n",
    "        # Run EPOCHS epochs of training\n",
    "        for epoch in range(EPOCHS):\n",
    "            \n",
    "            # Run training on each BATCH_SIZE minibatch\n",
    "            for (images, labels) in iterate_minibatches(X_train, y_train, BATCH_SIZE, shuffle=True):\n",
    "                sess.run(optimizer, feed_dict={x: images, y: labels, keep_prob: DROPOUT_KEEP})\n",
    "\n",
    "            # Average accuracy over training set\n",
    "            train_acc = calculate_accuracy(X_train, y_train, BATCH_SIZE_INF, accuracy, x, y, keep_prob, sess)\n",
    "            \n",
    "            # Average accuracy over validation set\n",
    "            valid_acc = calculate_accuracy(X_valid, y_valid, BATCH_SIZE_INF, accuracy, x, y, keep_prob, sess)\n",
    "                        \n",
    "            # Record and report train/validation/test accuracies for this epoch\n",
    "            accuracy_history.append((train_acc, valid_acc))\n",
    "\n",
    "            print('Epoch %d -- Train acc.: %.4f, Validation acc.: %.4f, Elapsed time: %.2f sec' %\\\n",
    "                (epoch+1, train_acc, valid_acc, time.time() - last_time))\n",
    "            last_time = time.time()\n",
    "            \n",
    "\n",
    "        total_time = time.time() - train_start_time\n",
    "        print('Total elapsed time: %.2f sec (%.2f min)' % (total_time, total_time / 60))\n",
    "\n",
    "        # After training is complete, evaluate accuracy on test set\n",
    "        print(\"\\nCalculating test accuracy...\")\n",
    "        test_accuracy = calculate_accuracy(X_test, y_test, BATCH_SIZE_INF, accuracy, x, y, keep_prob, sess)\n",
    "        print(\"\\nTest accuracy: %.4f\" % (test_accuracy))\n",
    "\n",
    "        save_model(saver, accuracy_history, sess)\n",
    "                \n",
    "    return accuracy_history\n",
    "                \n",
    "accuracy_history = train()"
   ]
  },
  {
   "cell_type": "markdown",
   "metadata": {},
   "source": [
    "##### Calculate the test accuracy - handy for when the model has been restored:"
   ]
  },
  {
   "cell_type": "code",
   "execution_count": null,
   "metadata": {
    "collapsed": false
   },
   "outputs": [],
   "source": [
    "# This assumes that the model has been previously run above...\n",
    "# I use this just to see what the test accuracy was if I've restored the model.\n",
    "print(\"\\nCalculating test accuracy...\")\n",
    "with tf.Graph().as_default(), tf.Session() as sess:\n",
    "    # Instantiate the model\n",
    "    x, y, keep_prob, logits_op, optimizer_op, predictions_op, accuracy_op = inference()\n",
    "\n",
    "    # Load trained weights\n",
    "    saver = tf.train.Saver()\n",
    "    saver.restore(sess, MODEL_SAVE_PATH)\n",
    "    \n",
    "    test_accuracy = calculate_accuracy(X_test, y_test, BATCH_SIZE_INF, accuracy_op, x, y, keep_prob, sess)\n",
    "    print(\"\\nTest accuracy: %.4f\" % (test_accuracy))"
   ]
  },
  {
   "cell_type": "markdown",
   "metadata": {},
   "source": [
    "### Plot the training and validation accuracies"
   ]
  },
  {
   "cell_type": "code",
   "execution_count": null,
   "metadata": {
    "collapsed": false
   },
   "outputs": [],
   "source": [
    "# Accuracy history has been saved as a List of Tuples\n",
    "# Convert to numpy array - shape is (EPOCHS x 2)\n",
    "# To plot this we transpose so that EPOCHS will be along X-axis\n",
    "\n",
    "hist = np.transpose(np.array(accuracy_history))\n",
    "plt.plot(hist[0], \"b\")  # training accuracy\n",
    "plt.plot(hist[1], \"r\")  # validation accuracy\n",
    "plt.title(\"Accuracy / Epoch (Training in blue and Validation in red)\")\n",
    "plt.ylabel('Accuracy')\n",
    "plt.xlabel('Epoch')\n",
    "plt.show()"
   ]
  },
  {
   "cell_type": "markdown",
   "metadata": {},
   "source": [
    "## Hyperparameter manual grid-search\n",
    "\n",
    "#### Testing with augmented dataset\n",
    "Training is much longer - 120 seconds per epoch now with augmentation adding an additional 5 images for every image in the initial training dataset (before th cross-val split).\n",
    "I had to remove the image standardisation / normalisation as I kept getting out of memory errors when taking the mean!<br>\n",
    "\n",
    "#### Test adding more layers (deeper network)\n",
    "Add another conv layer doubly deep as the previous layer:<br>\n",
    "Validation acc.: 0.9960 after 50 epochs!!!! Ended up only getting Test accuracy: 0.9535 after 100 epochs so its overfitting!<br><br>\n",
    "\n",
    "Add another FC layer without dropout:<br>\n",
    "Test accuracy: 0.9683<br><br>\n",
    "\n",
    "\n",
    "### Test with image normalization\n",
    "0.9554 with no norm<br>\n",
    "0.9546 with 1 - -1 norm<br>\n",
    "0.9459 with norm 2<br>\n",
    "0.9492 with both intensity norm and histo norm.<br>\n",
    "0.9538 with mean norm<br>\n",
    "##### Basically no real difference with this dataset!\n",
    "\n",
    "\n",
    "\n",
    "Test accuracy 0.9602<br>\n",
    "EPOCHS: 40<br>\n",
    "BATCH_SIZE: 128<br>\n",
    "BATCH_SIZE_INF: 2048<br>\n",
    "VALIDATION_SIZE: 0.2<br>\n",
    "LEARNING_RATE: 0.005<br>\n",
    "DROPOUT_KEEP: 0.5<br>\n",
    "With batch shuffling seems to make no difference just randomly bubbles around 0.95 to 0.96!\n",
    "\n",
    "Changing dropout_keep to 0.75 makes no difference! At 0.25 its slower to train so lets increase epochs and see???\n",
    "\n",
    "#### WE HAVE A NEW WINNER with dropout of 0.25:<br>\n",
    "Test accuracy: 0.9718<br>\n",
    "EPOCHS: 100<br>\n",
    "BATCH_SIZE: 128<br>\n",
    "BATCH_SIZE_INF: 2048<br>\n",
    "VALIDATION_SIZE: 0.2<br>\n",
    "LEARNING_RATE: 0.005<br>\n",
    "DROPOUT_KEEP: 0.25<br>\n",
    "\n",
    "Without normalising the pixel values between -1 and 1 makes for a slight decrease in performance to 0.9678. Probably not statistically significant.\n",
    "\n",
    "\n",
    "\n",
    "#### The rest of the tests...\n",
    "Any batches after about 40 seem to be a waste of time for the below test!\n",
    "\n",
    "\n",
    "\n",
    "Test accuracy 0.9538<br>\n",
    "EPOCHS: 100<br>\n",
    "BATCH_SIZE: 128<br>\n",
    "BATCH_SIZE_INF: 2048<br>\n",
    "VALIDATION_SIZE: 0.2<br>\n",
    "LEARNING_RATE: 0.005<br>\n",
    "DROPOUT_KEEP: 0.5<br>\n",
    "\n",
    "##### BEST\n",
    "\n",
    "Test acc.: 0.9624<br>\n",
    "EPOCHS: 30<br>\n",
    "BATCH_SIZE: 128<br>\n",
    "BATCH_SIZE_INF: 2048<br>\n",
    "VALIDATION_SIZE: 0.2<br>\n",
    "LEARNING_RATE: 0.005<br>\n",
    "DROPOUT_KEEP: 0.5<br>\n",
    "\n",
    "Based on this more than 40 epochs is a waste at current settings is a waste - might pay to implement early stopping.\n",
    "\n",
    "Changed to ADAM optimier but accuracy levels are terrible - need to change all params!\n",
    "\n",
    "Test accuracy: 0.9351\n",
    "EPOCHS: 30<br>\n",
    "BATCH_SIZE: 128<br>\n",
    "BATCH_SIZE_INF: 2048<br>\n",
    "VALIDATION_SIZE: 0.2<br>\n",
    "LEARNING_RATE: 0.0001<br>\n",
    "DROPOUT_KEEP: 0.5<br>\n",
    "\n",
    "Test accuracy: 0.9467\n",
    "EPOCHS: 50<br>\n",
    "BATCH_SIZE: 128<br>\n",
    "BATCH_SIZE_INF: 2048<br>\n",
    "VALIDATION_SIZE: 0.2<br>\n",
    "LEARNING_RATE: 0.0001<br>\n",
    "DROPOUT_KEEP: 0.5<br>\n",
    "\n",
    "Test accuracy: 0.9530<br>\n",
    "EPOCHS: 50<br>\n",
    "BATCH_SIZE: 128<br>\n",
    "BATCH_SIZE_INF: 2048<br>\n",
    "VALIDATION_SIZE: 0.2<br>\n",
    "LEARNING_RATE: 0.0005<br>\n",
    "DROPOUT_KEEP: 0.5<br>\n",
    "\n",
    "Test accuracy: 0.9570<br>\n",
    "EPOCHS: 40<br>\n",
    "BATCH_SIZE: 256<br>\n",
    "BATCH_SIZE_INF: 2048<br>\n",
    "VALIDATION_SIZE: 0.2<br>\n",
    "LEARNING_RATE: 0.0005<br>\n",
    "DROPOUT_KEEP: 0.5<br>\n",
    "\n",
    "Test accuracy: 0.9515<br>\n",
    "EPOCHS: 50<br>\n",
    "BATCH_SIZE: 512<br>\n",
    "BATCH_SIZE_INF: 2048<br>\n",
    "VALIDATION_SIZE: 0.2<br>\n",
    "LEARNING_RATE: 0.0005<br>\n",
    "DROPOUT_KEEP: 0.5<br>\n",
    "\n",
    "Test accuracy: 0.9450<br>\n",
    "EPOCHS: 50<br>\n",
    "BATCH_SIZE: 1024<br>\n",
    "BATCH_SIZE_INF: 2048<br>\n",
    "VALIDATION_SIZE: 0.2<br>\n",
    "LEARNING_RATE: 0.0005<br>\n",
    "DROPOUT_KEEP: 0.5<br>\n",
    "\n",
    "Test accuracy: VERY BAD !<br>\n",
    "EPOCHS: 50<br>\n",
    "BATCH_SIZE: 64<br>\n",
    "BATCH_SIZE_INF: 2048<br>\n",
    "VALIDATION_SIZE: 0.2<br>\n",
    "LEARNING_RATE: 0.0005<br>\n",
    "DROPOUT_KEEP: 0.5<br>"
   ]
  },
  {
   "cell_type": "markdown",
   "metadata": {},
   "source": [
    "### Question 1 \n",
    "\n",
    "_Describe how you preprocessed the data. Why did you choose that technique?_"
   ]
  },
  {
   "cell_type": "markdown",
   "metadata": {},
   "source": [
    "**Answer:**"
   ]
  },
  {
   "cell_type": "code",
   "execution_count": null,
   "metadata": {
    "collapsed": true
   },
   "outputs": [],
   "source": [
    "### Generate data additional data (OPTIONAL!)\n",
    "### and split the data into training/validation/testing sets here.\n",
    "### Feel free to use as many code cells as needed."
   ]
  },
  {
   "cell_type": "markdown",
   "metadata": {},
   "source": [
    "I tested a variety of pre-processing options, including: max-min normalisation; histogram normalisation; mean normalisation; grayscale and didn't see a realistic benefit with this dataset. I ended up going with just mean normalisation due to a weight of evidence for its benefit online.\n",
    "\n",
    "Maybe when running over longer cycles (epochs) and different network parameters, normalisation benefits may have become more apparent. I limited all my test runs to a maximum of 100 epochs due to the amount of time taken (even when running on an AWS GPU using the carnd image); though I performed most tests with normalisation at only 15 epochs.\n",
    "\n",
    "I have used the sklearn train_test_split() function to split out the test set further into a validation and test set."
   ]
  },
  {
   "cell_type": "markdown",
   "metadata": {},
   "source": [
    "### Question 2\n",
    "\n",
    "_Describe how you set up the training, validation and testing data for your model. **Optional**: If you generated additional data, how did you generate the data? Why did you generate the data? What are the differences in the new dataset (with generated data) from the original dataset?_"
   ]
  },
  {
   "cell_type": "markdown",
   "metadata": {},
   "source": [
    "**Answer:**"
   ]
  },
  {
   "cell_type": "markdown",
   "metadata": {},
   "source": [
    "I use sklearn train_test_split() function to break up the test dataset (by proportion: VALIDATION_SIZE) into a validation and test dataset."
   ]
  },
  {
   "cell_type": "markdown",
   "metadata": {},
   "source": [
    "### Question 3\n",
    "\n",
    "_What does your final architecture look like? (Type of model, layers, sizes, connectivity, etc.)  For reference on how to build a deep neural network using TensorFlow, see [Deep Neural Network in TensorFlow\n",
    "](https://classroom.udacity.com/nanodegrees/nd013/parts/fbf77062-5703-404e-b60c-95b78b2f3f9e/modules/6df7ae49-c61c-4bb2-a23e-6527e69209ec/lessons/b516a270-8600-4f93-a0a3-20dfeabe5da6/concepts/83a3a2a2-a9bd-4b7b-95b0-eb924ab14432) from the classroom._\n"
   ]
  },
  {
   "cell_type": "markdown",
   "metadata": {},
   "source": [
    "**Answer:**"
   ]
  },
  {
   "cell_type": "code",
   "execution_count": null,
   "metadata": {
    "collapsed": true
   },
   "outputs": [],
   "source": [
    "### Train your model here.\n",
    "### Feel free to use as many code cells as needed."
   ]
  },
  {
   "cell_type": "markdown",
   "metadata": {},
   "source": [
    "### Question 4\n",
    "\n",
    "_How did you train your model? (Type of optimizer, batch size, epochs, hyperparameters, etc.)_\n"
   ]
  },
  {
   "cell_type": "markdown",
   "metadata": {},
   "source": [
    "**Answer:**"
   ]
  },
  {
   "cell_type": "markdown",
   "metadata": {},
   "source": [
    "I used the standard SGD optimizer to train the model. I tried to use the Adam optimizer which internally uses momentum, learning rate decreasing, etc but failed to get it to match the SGD optimizer.<br>\n",
    "Initially ADAM gave meaningless reuslts until I adjusted the learning rate down by an order of magnitude (around 0.0001).\n",
    "\n",
    "The best results I could get were between 0.9450 and 0.9457 with ADAM, whereas with the standard SGD optimizer I could easily achiever better than this over various learning rater, batch sizes and epochs.\n",
    "\n",
    "I imagine that the ADAM results would be better with more complex networks and larger datasets."
   ]
  },
  {
   "cell_type": "markdown",
   "metadata": {},
   "source": [
    "### Question 5\n",
    "\n",
    "\n",
    "_What approach did you take in coming up with a solution to this problem? It may have been a process of trial and error, in which case, outline the steps you took to get to the final solution and why you chose those steps. Perhaps your solution involved an already well known implementation or architecture. In this case, discuss why you think this is suitable for the current problem._"
   ]
  },
  {
   "cell_type": "markdown",
   "metadata": {},
   "source": [
    "**Answer:**"
   ]
  },
  {
   "cell_type": "markdown",
   "metadata": {},
   "source": [
    "I started by modifying the Lenet implementation from the course to work with our image sizes and adjusted from their based on the tensorflow examples (on tensorflow.org).\n",
    "\n",
    "I then effectively performed a manual grid search over the hyperparamters, optimization routine (between SGD and ADAM) and image normlaistion. I have left some of the result from this in the notebook above. Mainly from changing the learnign rate more than anything else.\n",
    "\n",
    "Quite early on I discounted the ADAM optimizer - it was very fussy with parameters and I couldn't seem to get it to beat the SGD results.\n",
    "\n",
    "From research I came across artices talking about a trend of using larger batch sizes with lots of epochs so I ramped up the batch size but didn't really see a benefit and settles on 128.\n",
    "\n",
    "I also played with the dropout (keep) figure and interestingly found that by decresasing this (i.e. making the dropout more severe) I got better test set results! I had to make a corresponding increase to the number of epochs as it slowed down the learning rate. I settled on 100 epochs in the end. From about 90 onwards there will little change in the result. Any more than tht just took too damn long for someone like me who is time-constrained this xmas period!\n",
    "I settled on a dropout keep amount of 25%.\n",
    "\n",
    "So to sum up - most of my findings were by trial and error and educated guesses.\n",
    "\n",
    "One thing that I found the most difficult was tensorflow itself. Underastanding the summaries and checkpoints was like black magic and I gave up trying to use tensorboard - instead I just store an array or my accuracy per epoch for graphing.\n",
    "\n",
    "My frustrations with the low-level tensorflow library consumed me... After reading this google blog post: https://research.googleblog.com/2016/08/tf-slim-high-level-library-to-define.html I switched to using tensoflow slim. Tensoflorw-slim is what Google's engineers used to built the Inception-V3 model so it must be pretty good. It just removes the tedium of creating all the intermeditate TF variables and keeping track of the weights and so on...\n",
    "\n"
   ]
  },
  {
   "cell_type": "markdown",
   "metadata": {},
   "source": [
    "---\n",
    "\n",
    "## Step 3: Test a Model on New Images\n",
    "\n",
    "Take several pictures of traffic signs that you find on the web or around you (at least five), and run them through your classifier on your computer to produce example results. The classifier might not recognize some local signs but it could prove interesting nonetheless.\n",
    "\n",
    "You may find `signnames.csv` useful as it contains mappings from the class id (integer) to the actual sign name."
   ]
  },
  {
   "cell_type": "markdown",
   "metadata": {},
   "source": [
    "### Implementation\n",
    "\n",
    "Use the code cell (or multiple code cells, if necessary) to implement the first step of your project. Once you have completed your implementation and are satisfied with the results, be sure to thoroughly answer the questions that follow."
   ]
  },
  {
   "cell_type": "code",
   "execution_count": null,
   "metadata": {
    "collapsed": true
   },
   "outputs": [],
   "source": [
    "def convert_image_files_in_dir(dir):\n",
    "    \"\"\"\n",
    "    Use the Pillow Image object to read and resize images in the\n",
    "    specified directory - converting them to numpy arrays for ML\n",
    "    processing.\n",
    "    \"\"\"\n",
    "    image_list = []\n",
    "    \n",
    "    for file in os.listdir(dir):\n",
    "        image = Image.open(dir + \"/\" + file)\n",
    "        image = image.convert(\"RGB\")\n",
    "        image = image.resize((IMAGE_SIZE, IMAGE_SIZE), Image.ANTIALIAS)\n",
    "        image = np.array(list(image.getdata()), dtype=\"uint8\")\n",
    "        image = np.reshape(image, (32, 32, 3))\n",
    "        image_list.append(image)\n",
    "\n",
    "    return np.array(image_list, dtype=\"uint8\")"
   ]
  },
  {
   "cell_type": "markdown",
   "metadata": {},
   "source": [
    "### Load sample images (from Australian road signs) and display a random sample"
   ]
  },
  {
   "cell_type": "code",
   "execution_count": null,
   "metadata": {
    "collapsed": false
   },
   "outputs": [],
   "source": [
    "### Load the images and plot them here.\n",
    "### Feel free to use as many code cells as needed.\n",
    "\n",
    "test_images = convert_image_files_in_dir(\"traffic_signs_au\")\n",
    "num_images_to_show = 5\n",
    "indices = np.random.randint(0, len(test_images), num_images_to_show)\n",
    "images_to_show = test_images[indices]\n",
    "\n",
    "plt.rcParams[\"figure.figsize\"] = [7, 4]\n",
    "plt.axis(\"off\")  # clear x- and y-axes\n",
    "\n",
    "for i, test_image in enumerate(images_to_show):\n",
    "    plt.subplot(1, num_images_to_show, i+1)\n",
    "    plt.axis(\"off\")  # clear x- and y-axes\n",
    "    plt.imshow(test_image)\n",
    "    \n",
    "plt.tight_layout()"
   ]
  },
  {
   "cell_type": "markdown",
   "metadata": {},
   "source": [
    "### Run the model on the random sample of test images and display the predictions"
   ]
  },
  {
   "cell_type": "code",
   "execution_count": null,
   "metadata": {
    "collapsed": false
   },
   "outputs": [],
   "source": [
    "dummy_labels = np.array([0 for _ in range(images_to_show.shape[0])])\n",
    "images_to_show_preprocessed, _ = preprocess(images_to_show, dummy_labels)\n",
    "\n",
    "with tf.Graph().as_default(), tf.Session() as sess:\n",
    "    # Instantiate the model\n",
    "    x, y, keep_prob, logits_op, optimizer_op, predictions_op, accuracy_op = inference()\n",
    "\n",
    "    # Load trained weights\n",
    "    saver = tf.train.Saver()\n",
    "    saver.restore(sess, MODEL_SAVE_PATH)\n",
    "    \n",
    "    logits, predictions = sess.run([logits_op, predictions_op], feed_dict={x: images_to_show_preprocessed, keep_prob: 1.})\n",
    "\n",
    "final_preds = [signnames[p+1][1].decode(\"utf-8\") for p in predictions]\n",
    "\n",
    "# Print predictions on my sample images\n",
    "print(\"\\nPredictions on test images:\")\n",
    "\n",
    "plt.figure()\n",
    "plt.rcParams[\"figure.figsize\"] = [7, 4]\n",
    "plt.axis(\"off\")\n",
    "\n",
    "for i, test_image in enumerate(images_to_show):\n",
    "    plt.subplot(1, num_images_to_show, i+1)\n",
    "    plt.axis(\"off\")\n",
    "    plt.imshow(test_image)\n",
    "    plt.title(final_preds[i])\n",
    "    \n",
    "plt.tight_layout()"
   ]
  },
  {
   "cell_type": "markdown",
   "metadata": {},
   "source": [
    "### Question 6\n",
    "\n",
    "_Choose five candidate images of traffic signs and provide them in the report. Are there any particular qualities of the image(s) that might make classification difficult? It could be helpful to plot the images in the notebook._\n",
    "\n"
   ]
  },
  {
   "cell_type": "markdown",
   "metadata": {},
   "source": [
    "**Answer:**"
   ]
  },
  {
   "cell_type": "code",
   "execution_count": null,
   "metadata": {
    "collapsed": true
   },
   "outputs": [],
   "source": [
    "### Run the predictions here.\n",
    "### Feel free to use as many code cells as needed."
   ]
  },
  {
   "cell_type": "markdown",
   "metadata": {},
   "source": [
    "### Question 7\n",
    "\n",
    "_Is your model able to perform equally well on captured pictures when compared to testing on the dataset? The simplest way to do this check the accuracy of the predictions. For example, if the model predicted 1 out of 5 signs correctly, it's 20% accurate._\n",
    "\n",
    "_**NOTE:** You could check the accuracy manually by using `signnames.csv` (same directory). This file has a mapping from the class id (0-42) to the corresponding sign name. So, you could take the class id the model outputs, lookup the name in `signnames.csv` and see if it matches the sign from the image._\n"
   ]
  },
  {
   "cell_type": "markdown",
   "metadata": {},
   "source": [
    "**Answer:**"
   ]
  },
  {
   "cell_type": "code",
   "execution_count": null,
   "metadata": {
    "collapsed": false
   },
   "outputs": [],
   "source": [
    "### Visualize the softmax probabilities here.\n",
    "### Feel free to use as many code cells as needed.\n",
    "\n",
    "with tf.Graph().as_default(), tf.Session() as sess:\n",
    "    logits_placeholder = tf.placeholder(\"float\", [None, NUMBER_OF_CLASSES])\n",
    "    softmax = tf.nn.softmax(logits_placeholder)\n",
    "    top_k, top_k_idx = tf.nn.top_k(softmax, k=5)\n",
    "    \n",
    "    # Run the session to calculate the top_k softmax values using the logits tensor calculated\n",
    "    # from our predictions run above.\n",
    "    top_k_values, top_k_indexes = sess.run([top_k, top_k_idx], feed_dict={logits_placeholder: logits})\n",
    "    \n",
    "    plt.figure()\n",
    "    #plt.rcParams[\"figure.figsize\"] = [25, 10]\n",
    "        \n",
    "    for i, test_image in enumerate(images_to_show):\n",
    "        top_k_predictions = [signnames[i+1][1] for i in top_k_indexes[i]]\n",
    "        #print(top_k_predictions)\n",
    "        prediction_string = \"\"\n",
    "        for j in range(5):\n",
    "            image_predictions = top_k_predictions[j].decode(\"utf-8\"), top_k_values[i][j]\n",
    "            #if j == 0:\n",
    "            #    prediction_string = \"%s %s\" % (image_predictions[0], image_predictions[1])\n",
    "            #else:\n",
    "            prediction_string += \"\\n%s %s\" % (image_predictions[0], image_predictions[1])\n",
    "            #print(j, image_predictions)\n",
    "            #print(image_predictions[0], image_predictions[1])\n",
    "        \n",
    "        plt.subplot(1, num_images_to_show, i+1)\n",
    "        plt.axis(\"off\")\n",
    "        plt.imshow(test_image)\n",
    "        plt.title(prediction_string)"
   ]
  },
  {
   "cell_type": "markdown",
   "metadata": {},
   "source": [
    "As can be seen above, the performance on Australian traffic signs is pretty woeful even though we are getting around 97% accuracy on the German traffic sign test set. The reasons for this is suspect are that the meaning of the objects can be quite different in Australia and we even have speed limit signs that Germans don't have such as the 75km/h sign which is recognised as the German 70km/h sign.\n",
    "Interestingly the model is able to pick out arrows to suggest things like \"keep left\" even though it doesn't match the Australian meaning.\n",
    "\n",
    "So, for an internation version of an autonomous vehicle we either need a worldwide signs training set or we have specific models for each country."
   ]
  },
  {
   "cell_type": "markdown",
   "metadata": {},
   "source": [
    "### Question 8\n",
    "\n",
    "*Use the model's softmax probabilities to visualize the **certainty** of its predictions, [`tf.nn.top_k`](https://www.tensorflow.org/versions/r0.12/api_docs/python/nn.html#top_k) could prove helpful here. Which predictions is the model certain of? Uncertain? If the model was incorrect in its initial prediction, does the correct prediction appear in the top k? (k should be 5 at most)*\n",
    "\n",
    "`tf.nn.top_k` will return the values and indices (class ids) of the top k predictions. So if k=3, for each sign, it'll return the 3 largest probabilities (out of a possible 43) and the correspoding class ids.\n",
    "\n",
    "Take this numpy array as an example:\n",
    "\n",
    "```\n",
    "# (5, 6) array\n",
    "a = np.array([[ 0.24879643,  0.07032244,  0.12641572,  0.34763842,  0.07893497,\n",
    "         0.12789202],\n",
    "       [ 0.28086119,  0.27569815,  0.08594638,  0.0178669 ,  0.18063401,\n",
    "         0.15899337],\n",
    "       [ 0.26076848,  0.23664738,  0.08020603,  0.07001922,  0.1134371 ,\n",
    "         0.23892179],\n",
    "       [ 0.11943333,  0.29198961,  0.02605103,  0.26234032,  0.1351348 ,\n",
    "         0.16505091],\n",
    "       [ 0.09561176,  0.34396535,  0.0643941 ,  0.16240774,  0.24206137,\n",
    "         0.09155967]])\n",
    "```\n",
    "\n",
    "Running it through `sess.run(tf.nn.top_k(tf.constant(a), k=3))` produces:\n",
    "\n",
    "```\n",
    "TopKV2(values=array([[ 0.34763842,  0.24879643,  0.12789202],\n",
    "       [ 0.28086119,  0.27569815,  0.18063401],\n",
    "       [ 0.26076848,  0.23892179,  0.23664738],\n",
    "       [ 0.29198961,  0.26234032,  0.16505091],\n",
    "       [ 0.34396535,  0.24206137,  0.16240774]]), indices=array([[3, 0, 5],\n",
    "       [0, 1, 4],\n",
    "       [0, 5, 1],\n",
    "       [1, 3, 5],\n",
    "       [1, 4, 3]], dtype=int32))\n",
    "```\n",
    "\n",
    "Looking just at the first row we get `[ 0.34763842,  0.24879643,  0.12789202]`, you can confirm these are the 3 largest probabilities in `a`. You'll also notice `[3, 0, 5]` are the corresponding indices."
   ]
  },
  {
   "cell_type": "markdown",
   "metadata": {},
   "source": [
    "**Answer:**"
   ]
  },
  {
   "cell_type": "markdown",
   "metadata": {},
   "source": [
    "> **Note**: Once you have completed all of the code implementations and successfully answered each question above, you may finalize your work by exporting the iPython Notebook as an HTML document. You can do this by using the menu above and navigating to  \\n\",\n",
    "    \"**File -> Download as -> HTML (.html)**. Include the finished document along with this notebook as your submission."
   ]
  },
  {
   "cell_type": "code",
   "execution_count": null,
   "metadata": {
    "collapsed": true
   },
   "outputs": [],
   "source": []
  }
 ],
 "metadata": {
  "anaconda-cloud": {},
  "kernelspec": {
   "display_name": "Python [default]",
   "language": "python",
   "name": "python3"
  },
  "language_info": {
   "codemirror_mode": {
    "name": "ipython",
    "version": 3
   },
   "file_extension": ".py",
   "mimetype": "text/x-python",
   "name": "python",
   "nbconvert_exporter": "python",
   "pygments_lexer": "ipython3",
   "version": "3.5.2"
  }
 },
 "nbformat": 4,
 "nbformat_minor": 1
}
